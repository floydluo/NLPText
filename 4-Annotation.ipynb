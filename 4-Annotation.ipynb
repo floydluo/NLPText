{
 "cells": [
  {
   "cell_type": "markdown",
   "metadata": {},
   "source": [
    "# Deal with Annotation"
   ]
  },
  {
   "cell_type": "code",
   "execution_count": 3,
   "metadata": {},
   "outputs": [
    {
     "name": "stdout",
     "output_type": "stream",
     "text": [
      "结肠多发息肉。\n",
      "患中老年男性,慢性病程。 因“体检发现大肠多发息肉3月余”入院。查体:无阳性体征。\n",
      "标注文本名称:/Users/zhangling/Documents/新标的数据530/529李选-已检查/Entity/patient4378.txt\n",
      "标注文本字数统计:87\n",
      "多发息肉\t3\t6\t疾病\n",
      "慢性\t16\t17\t修饰\n",
      "多发息肉\t30\t33\t疾病\n",
      "3月余\t34\t36\t修饰\n",
      "无阳性体征\t44\t48\t不确定\n",
      "\n",
      "[['多', 2, '疾病-B'], ['发', 3, '疾病-I'], ['息', 4, '疾病-I'], ['肉', 5, '疾病-E']]\n",
      "\n",
      " [['结', 0, 'O'], ['肠', 1, 'O'], ['多', 2, '疾病-B'], ['发', 3, '疾病-I'], ['息', 4, '疾病-I'], ['肉', 5, '疾病-E'], ['。', 6, 'O'], ['\\n', 7, 'O'], ['患', 8, 'O'], ['中', 9, 'O']]\n"
     ]
    }
   ],
   "source": [
    "\n",
    "strText = '''结肠多发息肉。\\n患中老年男性,慢性病程。 因“体检发现大肠多发息肉3月余”入院。查体:无阳性体征。'''\n",
    "\n",
    "print(strText)\n",
    "\n",
    "strAnnoText = '''标注文本名称:/Users/zhangling/Documents/新标的数据530/529李选-已检查/Entity/patient4378.txt\\n标注文本字数统计:87\\n多发息肉\\t3\\t6\\t疾病\\n慢性\\t16\\t17\\t修饰\\n多发息肉\\t30\\t33\\t疾病\\n3月余\\t34\\t36\\t修饰\\n无阳性体征\\t44\\t48\\t不确定\\n'''\n",
    "print(strAnnoText)\n",
    "\n",
    "# BIOES\n",
    "\n",
    "sep = '\\t'\n",
    "SSETText = [sset.split('\\t') for sset in strAnnoText.split('\\n') if sep in sset]\n",
    "\n",
    "notZeroIndex = 1 \n",
    "\n",
    "sset = SSETText[0]\n",
    "\n",
    "strAnno = sset[0]\n",
    "s       = int(sset[1]) - notZeroIndex\n",
    "tag     = sset[3] \n",
    "CIT = [[c, s + idx, tag+ '-I']  for idx, c in enumerate(strAnno)]\n",
    "\n",
    "CIT[-1][2] = tag + '-E'\n",
    "CIT[0][2]  = tag + '-B'\n",
    "    \n",
    "if len(CIT) == 1:\n",
    "    CIT[2] = tag + '-S'   \n",
    "print(CIT)\n",
    "\n",
    "\n",
    "CITAnnoText = []\n",
    "for sset in SSETText:\n",
    "    strAnno = sset[0]\n",
    "    s       = int(sset[1]) - notZeroIndex\n",
    "    tag     = sset[3] \n",
    "    CIT = [[c, s + idx, tag+ '-I']  for idx, c in enumerate(strAnno)]\n",
    "\n",
    "    CIT[-1][2] = tag + '-E'\n",
    "    CIT[0][2]  = tag + '-B'\n",
    "\n",
    "    if len(CIT) == 1:\n",
    "        CIT[0][2] = tag + '-S' \n",
    "        \n",
    "    CITAnnoText.extend(CIT)\n",
    "    \n",
    "    \n",
    "CITText = [[char, idx, 'O'] for idx, char in enumerate(strText)]\n",
    "\n",
    "for citAnno in CITAnnoText:\n",
    "    c, idx, t = citAnno\n",
    "    assert CITText[idx][0] == c\n",
    "    CITText[idx] = citAnno\n",
    "    \n",
    "\n",
    "print('\\n', CITText[:10])"
   ]
  },
  {
   "cell_type": "code",
   "execution_count": 4,
   "metadata": {},
   "outputs": [
    {
     "data": {
      "text/plain": [
       "[[['结', 0, 'O'],\n",
       "  ['肠', 1, 'O'],\n",
       "  ['多', 2, '疾病-B'],\n",
       "  ['发', 3, '疾病-I'],\n",
       "  ['息', 4, '疾病-I'],\n",
       "  ['肉', 5, '疾病-E'],\n",
       "  ['。', 6, 'O']],\n",
       " [['患', 0, 'O'],\n",
       "  ['中', 1, 'O'],\n",
       "  ['老', 2, 'O'],\n",
       "  ['年', 3, 'O'],\n",
       "  ['男', 4, 'O'],\n",
       "  ['性', 5, 'O'],\n",
       "  [',', 6, 'O'],\n",
       "  ['慢', 7, '修饰-B'],\n",
       "  ['性', 8, '修饰-E'],\n",
       "  ['病', 9, 'O'],\n",
       "  ['程', 10, 'O'],\n",
       "  ['。', 11, 'O']]]"
      ]
     },
     "execution_count": 4,
     "metadata": {},
     "output_type": "execute_result"
    }
   ],
   "source": [
    "\n",
    "strSents = ['结肠多发息肉。', '患中老年男性,慢性病程。']\n",
    "\n",
    "CITText = [['结', 0, 'O'],\n",
    " ['肠', 1, 'O'],\n",
    " ['多', 2, '疾病-B'],\n",
    " ['发', 3, '疾病-I'],\n",
    " ['息', 4, '疾病-I'],\n",
    " ['肉', 5, '疾病-E'],\n",
    " ['。', 6, 'O'],\n",
    " ['\\n', 7, 'O'],\n",
    " ['患', 8, 'O'],\n",
    " ['中', 9, 'O'],\n",
    " ['老', 10, 'O'],\n",
    " ['年', 11, 'O'],\n",
    " ['男', 12, 'O'],\n",
    " ['性', 13, 'O'],\n",
    " [',', 14, 'O'],\n",
    " ['慢', 15, '修饰-B'],\n",
    " ['性', 16, '修饰-E'],\n",
    " ['病', 17, 'O'],\n",
    " ['程', 18, 'O'],\n",
    " ['。', 19, 'O'],\n",
    " [' ', 20, 'O'],]\n",
    "\n",
    "\n",
    "\n",
    "lenLastSent = 0\n",
    "collapse    = 0\n",
    " \n",
    "CITSents = []\n",
    "for strSent in strSents:\n",
    "    CITSent = []\n",
    "    for sentTokenIdx, c in enumerate(strSent):\n",
    "        # sentTokenIdx = txtTokenIdx - lenLastSent - collapse\n",
    "        txtTokenIdx = sentTokenIdx + lenLastSent + collapse\n",
    "        cT, _, tT = CITText[txtTokenIdx]\n",
    "        while c != cT:\n",
    "            collapse = collapse + 1\n",
    "            txtTokenIdx = sentTokenIdx + lenLastSent + collapse\n",
    "            cT, _, tT = CITText[txtTokenIdx]\n",
    "            \n",
    "        CITSent.append([c,sentTokenIdx, tT])\n",
    "    lenLastSent = lenLastSent + len(strSent)\n",
    "    CITSents.append(CITSent)\n",
    "CITSents    "
   ]
  },
  {
   "cell_type": "code",
   "execution_count": 5,
   "metadata": {},
   "outputs": [
    {
     "name": "stdout",
     "output_type": "stream",
     "text": [
      "[('This is an annotated entity ', 'O'),\n",
      " ('2018-12-22', 'date'),\n",
      " (', try to extract it out!', 'O')]\n",
      "[['This is an annotated entity ', 0, 28, 'O'],\n",
      " ['2018-12-22', 28, 38, 'date'],\n",
      " [', try to extract it out!', 38, 62, 'O']]\n",
      "'This is an annotated entity 2018-12-22, try to extract it out!'\n"
     ]
    }
   ],
   "source": [
    "from pprint import pprint\n",
    "\n",
    "string = 'This is an annotated entity {{2018-12-22:date}}, try to extract it out!'\n",
    "\n",
    "ST = [(block, 'O') if idx%2==0 else (block.split(':')[0], block.split(':')[-1]) \n",
    "    for idx, block in enumerate(string.replace(\"}}\", '{{').split('{{'))]\n",
    "\n",
    "pprint(ST)\n",
    "# SSET, Str, S(char), E(char), Tag.\n",
    "\n",
    "txtCharIdx = 0\n",
    "SSET = []\n",
    "strText = ''\n",
    "for st in ST:\n",
    "    string, tag = st\n",
    "    sset = [string, txtCharIdx, txtCharIdx + len(string), tag]\n",
    "    SSET.append(sset)\n",
    "    txtCharIdx = sset[2]\n",
    "    strText = strText + string\n",
    "    \n",
    "pprint(SSET)\n",
    "pprint(strText) \n",
    "\n",
    "# Only Way to Check a SSET\n",
    "for sset in SSET:\n",
    "    assert sset[0] == strText[sset[1]: sset[2]]\n"
   ]
  },
  {
   "cell_type": "code",
   "execution_count": null,
   "metadata": {},
   "outputs": [],
   "source": []
  }
 ],
 "metadata": {
  "kernelspec": {
   "display_name": "Python 3",
   "language": "python",
   "name": "python3"
  },
  "language_info": {
   "codemirror_mode": {
    "name": "ipython",
    "version": 3
   },
   "file_extension": ".py",
   "mimetype": "text/x-python",
   "name": "python",
   "nbconvert_exporter": "python",
   "pygments_lexer": "ipython3",
   "version": "3.7.3"
  },
  "toc": {
   "base_numbering": 1,
   "nav_menu": {},
   "number_sections": true,
   "sideBar": true,
   "skip_h1_title": false,
   "title_cell": "Table of Contents",
   "title_sidebar": "Contents",
   "toc_cell": false,
   "toc_position": {},
   "toc_section_display": true,
   "toc_window_display": false
  }
 },
 "nbformat": 4,
 "nbformat_minor": 2
}
