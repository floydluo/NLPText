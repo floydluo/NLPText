{
 "cells": [
  {
   "cell_type": "markdown",
   "metadata": {},
   "source": [
    "# Relevant\n",
    "\n",
    "## 1.  `utils/vocab.py`\n",
    "\n",
    "## 2.  `base.py::BasicObject.getGrainUnique`\n",
    "\n",
    "## 3.  `base.py::BasicObject.getLookUp`\n",
    "\n",
    "## 4.  `base.py::BasicObject.BUILD_GRAIN_UNI_AND_LOOKUP`\n",
    "\n",
    "## 5. `utils/infrastructure.py::Part SpecialTokens`\n",
    "\n",
    "# Less Relevant \n",
    "\n",
    "\n"
   ]
  },
  {
   "cell_type": "markdown",
   "metadata": {},
   "source": [
    "# 1. Test Corpus\n",
    "## 1.1 Initialize Corpus"
   ]
  },
  {
   "cell_type": "code",
   "execution_count": null,
   "metadata": {},
   "outputs": [],
   "source": [
    "from pprint import pprint\n",
    "from nlptext.base import BasicObject\n",
    "\n",
    "########### MedPOS ###########\n",
    "CORPUSPath = 'corpus/medpos/'\n",
    "textType   = 'file'\n",
    "corpusFileIden = None\n",
    "Text2SentMethod  = 're'\n",
    "Sent2TokenMethod = 'iter'\n",
    "TOKENLevel = 'char'\n",
    "anno = '.UMLSTag'\n",
    "annoKW = {\n",
    "    'sep': '\\t',\n",
    "    'notZeroIndex': 0,\n",
    "}\n",
    "\n",
    "\n",
    "MaxTextIdx = False\n",
    "\n",
    "BasicObject.INIT(CORPUSPath, corpusFileIden, textType, \n",
    "                 Text2SentMethod, Sent2TokenMethod, TOKENLevel, \n",
    "                 anno, annoKW, MaxTextIdx)\n",
    "\n",
    "\n",
    "from nlptext.corpus import Corpus\n",
    "corpus = Corpus()\n",
    "# corpus.IdxFolderStartEnd\n",
    "print([i for i in corpus.TOKEN])"
   ]
  },
  {
   "cell_type": "code",
   "execution_count": null,
   "metadata": {},
   "outputs": [],
   "source": [
    "ListTokenUnique = corpus.TokenUnique[0]\n",
    "print(ListTokenUnique)"
   ]
  },
  {
   "cell_type": "markdown",
   "metadata": {},
   "source": [
    "## 1.2 Test in Corpus System\n",
    "\n",
    "\n",
    "### 1.2.1 CTX_IND_CHANNELS\n",
    "#### Token"
   ]
  },
  {
   "cell_type": "code",
   "execution_count": null,
   "metadata": {},
   "outputs": [],
   "source": [
    "channel = 'stroke'\n",
    "\n",
    "tk = corpus.Tokens[10]\n",
    "print(tk.getChannelGrain(channel, end_grain=True))"
   ]
  },
  {
   "cell_type": "markdown",
   "metadata": {},
   "source": [
    "#### Sentence"
   ]
  },
  {
   "cell_type": "code",
   "execution_count": null,
   "metadata": {
    "scrolled": true
   },
   "outputs": [],
   "source": [
    "channel = 'stroke'\n",
    "st = corpus.Sentences[2]\n",
    "print(st.getChannelGrain(channel, Max_Ngram=2, useStartEnd=True, end_grain=True))"
   ]
  },
  {
   "cell_type": "markdown",
   "metadata": {},
   "source": [
    "### 1.2.2 CTX_DEP_CHANNELS\n",
    "\n",
    "#### Token"
   ]
  },
  {
   "cell_type": "code",
   "execution_count": null,
   "metadata": {},
   "outputs": [],
   "source": [
    "tk = corpus.Tokens[10]\n",
    "print(tk)\n",
    "print()\n",
    "print(tk.getChannelGrain('stroke'))\n",
    "print()\n",
    "print(tk.getChannelGrain('subcomp', Max_Ngram=2, end_grain=True))\n",
    "print()\n",
    "print(tk.getChannelGrain('pos'))"
   ]
  },
  {
   "cell_type": "markdown",
   "metadata": {},
   "source": [
    "#### Sentence"
   ]
  },
  {
   "cell_type": "code",
   "execution_count": null,
   "metadata": {
    "scrolled": true
   },
   "outputs": [],
   "source": [
    "\n",
    "st = corpus.Sentences[2]\n",
    "\n",
    "print(st.getChannelGrain('stroke'))\n",
    "print()\n",
    "print(st.getChannelGrain('subcomp', end_grain=True))\n",
    "print()\n",
    "print(st.getChannelGrain('pos'))\n",
    "\n",
    "print()\n",
    "print(st.getChannelGrain('pos', Max_Ngram=2, useStartEnd=True))"
   ]
  },
  {
   "cell_type": "markdown",
   "metadata": {},
   "source": [
    "### 1.2.3 ANNO_CHANNEL\n",
    "\n",
    "#### Token"
   ]
  },
  {
   "cell_type": "code",
   "execution_count": null,
   "metadata": {},
   "outputs": [],
   "source": [
    "# one applicable in the corpus text\n",
    "channel = 'annoE'\n",
    "\n",
    "tk = corpus.Tokens[10]\n",
    "print(tk.getChannelGrain(channel, end_grain=True))"
   ]
  },
  {
   "cell_type": "code",
   "execution_count": null,
   "metadata": {},
   "outputs": [],
   "source": [
    "channel = 'annoE'\n",
    "st = corpus.Sentences[2]\n",
    "print(st.sentence, '\\n')\n",
    "print(st.getChannelGrain(channel, useStartEnd=True), '\\n')\n",
    "\n",
    "channel = 'annoR'\n",
    "st = corpus.Sentences[2]\n",
    "print(st.getChannelGrain(channel, useStartEnd=True), '\\n')"
   ]
  },
  {
   "cell_type": "code",
   "execution_count": null,
   "metadata": {},
   "outputs": [],
   "source": [
    "channel = 'annoE'\n",
    "list(zip(st.sentence, st.getChannelGrain(channel, useStartEnd=False)))"
   ]
  },
  {
   "cell_type": "markdown",
   "metadata": {},
   "source": [
    "## 1.3 Test in New Sentence whose TOKENLevel is Word"
   ]
  },
  {
   "cell_type": "code",
   "execution_count": null,
   "metadata": {},
   "outputs": [],
   "source": [
    "PAD   = '</pad>'\n",
    "START = '</start>'\n",
    "END   = '</end>'\n",
    "UNK   = '</unk>'\n",
    "specialTokens     = [ PAD, START, END, UNK ]\n",
    "specialTokensDict = {PAD: 0, START: 1, END: 2, UNK : 3, }\n",
    "\n",
    "\n",
    "from nlptext.utils.channel import getChannelGrain4Token, getChannelGrain4Sent"
   ]
  },
  {
   "cell_type": "markdown",
   "metadata": {},
   "source": [
    "#### Token"
   ]
  },
  {
   "cell_type": "code",
   "execution_count": null,
   "metadata": {},
   "outputs": [],
   "source": [
    "from nlptext.token import Token\n",
    "\n",
    "channel = 'radical'\n",
    "token = '病理性'\n",
    "\n",
    "\n",
    "tk = Token(token = token)\n",
    "print(tk ,'\\n')\n",
    "print(tk.getChannelGrain('radical', Max_Ngram=2),'\\n')\n",
    "print(tk.getChannelGrain('stroke'),'\\n')\n",
    "print(tk.getChannelGrain('stroke', end_grain=True),'\\n')"
   ]
  },
  {
   "cell_type": "markdown",
   "metadata": {},
   "source": [
    "#### Sentence"
   ]
  },
  {
   "cell_type": "code",
   "execution_count": null,
   "metadata": {},
   "outputs": [],
   "source": [
    "from nlptext.sentence import Sentence\n",
    "\n",
    "sent =  '心率 62 次 / 分 ， 律 齐 ， 各 瓣膜 区 未闻 及 病理性 杂音 。'.split(' ')\n",
    "st = Sentence(sentence=sent, tokenLevel = 'word')\n",
    "print(st,'\\n')\n",
    "print(st.sentence,'\\n')\n",
    "print(st.getChannelGrain('token'),'\\n')\n",
    "print(st.getChannelGrain('stroke'),'\\n')\n",
    "print(st.getChannelGrain('subcomp', useStartEnd=True, end_grain=True),'\\n')\n",
    "print(st.getChannelGrain('pos'))"
   ]
  },
  {
   "cell_type": "markdown",
   "metadata": {},
   "source": [
    "#### Sentence's Token"
   ]
  },
  {
   "cell_type": "code",
   "execution_count": null,
   "metadata": {},
   "outputs": [],
   "source": [
    "tk = st.Tokens[0]\n",
    "print(tk)\n",
    "print()\n",
    "print(tk.getChannelGrain('stroke'))\n",
    "print()\n",
    "print(tk.getChannelGrain('stroke', end_grain=True))"
   ]
  },
  {
   "cell_type": "code",
   "execution_count": null,
   "metadata": {},
   "outputs": [],
   "source": [
    "# can use POS here.\n",
    "print(tk.getChannelGrain('pos')) "
   ]
  },
  {
   "cell_type": "markdown",
   "metadata": {},
   "source": [
    "# 2. Build `ListGrainUnique` for All Channels\n",
    "\n",
    "\n",
    "## 2.1 Function `get_LGU_or_LKP`\n",
    "\n",
    "Based on Token Vocab, to build a sub field grain vocab and its look up table."
   ]
  },
  {
   "cell_type": "code",
   "execution_count": null,
   "metadata": {},
   "outputs": [],
   "source": [
    "from nlptext.utils.vocab import get_GU_or_LKP\n",
    "get_GU_or_LKP"
   ]
  },
  {
   "cell_type": "code",
   "execution_count": null,
   "metadata": {
    "scrolled": true
   },
   "outputs": [],
   "source": [
    "# this function is used in getListGrainUnique\n",
    "\n",
    "TokenUnique = corpus.TokenUnique\n",
    "Max_Ngram = 2\n",
    "channel = 'subcomp'\n",
    "GU, LookUp = get_GU_or_LKP(TokenUnique, Max_Ngram = Max_Ngram, channel=channel)\n",
    "print(GU[1])"
   ]
  },
  {
   "cell_type": "code",
   "execution_count": null,
   "metadata": {},
   "outputs": [],
   "source": [
    "tk_idx = 56"
   ]
  },
  {
   "cell_type": "code",
   "execution_count": null,
   "metadata": {},
   "outputs": [],
   "source": [
    "[GU[0][i] for i in LookUp[tk_idx]]"
   ]
  },
  {
   "cell_type": "code",
   "execution_count": null,
   "metadata": {},
   "outputs": [],
   "source": [
    "token = TokenUnique[0][tk_idx]\n",
    "\n",
    "getChannelGrain4Token(token, channel, Max_Ngram= Max_Ngram)"
   ]
  },
  {
   "cell_type": "markdown",
   "metadata": {},
   "source": [
    "## 2.2 `getGrainUnique`\n",
    "\n",
    "\n",
    "Much Codes in the function `getGrainUnique` in the module `base.py` ."
   ]
  },
  {
   "cell_type": "code",
   "execution_count": null,
   "metadata": {},
   "outputs": [],
   "source": [
    "from nlptext.corpus import Corpus\n",
    "\n",
    "corpus = Corpus()\n",
    "channel_setting_temp = {'token':{'use':         True,\n",
    "                                 'Max_Ngram':   1,\n",
    "                                 'end_grain':   False,\n",
    "                                 }}\n",
    "    \n",
    "channel = 'token'\n",
    "channel_setting = channel_setting_temp[channel]\n",
    "use = channel_setting.pop('use')\n",
    "GrainUnqiue = corpus.getGrainUnique(channel, **channel_setting)"
   ]
  },
  {
   "cell_type": "code",
   "execution_count": null,
   "metadata": {},
   "outputs": [],
   "source": [
    "channel_setting_temp = {'subcomp':{'use':         True,\n",
    "                                   'Max_Ngram':   3,\n",
    "                                   'end_grain':   True,\n",
    "                                   }}\n",
    "channel = 'subcomp'\n",
    "channel_setting = channel_setting_temp[channel]\n",
    "use = channel_setting.pop('use')\n",
    "GrainUnqiue = corpus.getGrainUnique(channel, **channel_setting)"
   ]
  },
  {
   "cell_type": "code",
   "execution_count": null,
   "metadata": {},
   "outputs": [],
   "source": [
    "channel_setting_temp = {'pos':    {'use':         True,\n",
    "                                   'Max_Ngram':  1,\n",
    "                                   'tagScheme': 'BIO' }}\n",
    "    \n",
    "channel = 'pos'\n",
    "channel_setting = channel_setting_temp[channel]\n",
    "use = channel_setting.pop('use')\n",
    "GrainUnqiue = corpus.getGrainUnique(channel, **channel_setting)"
   ]
  },
  {
   "cell_type": "code",
   "execution_count": null,
   "metadata": {},
   "outputs": [],
   "source": [
    "channel_setting_temp = {'annoE':  {'use':         True,\n",
    "                                   'Max_Ngram':  1,\n",
    "                                   'tagScheme': 'BIO' }}\n",
    "    \n",
    "\n",
    "channel = 'annoE'\n",
    "channel_setting = channel_setting_temp[channel]\n",
    "use = channel_setting.pop('use')\n",
    "GrainUnique = corpus.getGrainUnique(channel, **channel_setting)"
   ]
  },
  {
   "cell_type": "code",
   "execution_count": null,
   "metadata": {},
   "outputs": [],
   "source": [
    "channel_setting_temp = {'annoE':  {'use':         True,\n",
    "                                   'Max_Ngram':  1,\n",
    "                                   'tagScheme': 'BIOES' }}\n",
    "    \n",
    "channel = 'annoE'\n",
    "channel_setting = channel_setting_temp[channel]\n",
    "use = channel_setting.pop('use')\n",
    "GrainUnique = corpus.getGrainUnique(channel, **channel_setting)"
   ]
  },
  {
   "cell_type": "markdown",
   "metadata": {},
   "source": [
    "# 3 Using the Predefined Grain List for CTX_DEP and ANNO Channels\n",
    "\n",
    "\n",
    "For example, we have a list at the very begining\n",
    "\n",
    "## `utils/infrastructure.py:: Part BIOES Labels and Transformation`"
   ]
  },
  {
   "cell_type": "code",
   "execution_count": null,
   "metadata": {},
   "outputs": [],
   "source": [
    "ANNO_Tag_List = ['不确定', '修饰',  '检查', '疾病', '症状']\n",
    "\n",
    "def getTagDict(TagList, tagScheme = 'BIO'):\n",
    "    L = []\n",
    "    suffices = ['-B', '-I']\n",
    "    if 'O' in tagScheme:\n",
    "        pref = specialTokens[:-1] + ['O']\n",
    "    \n",
    "    else:\n",
    "        pref = specialTokens[:-1] # without UNK\n",
    "    if 'E' in tagScheme:\n",
    "        suffices = suffices + ['-E']\n",
    "    if 'S' in tagScheme:\n",
    "        suffices = suffices + ['-S']\n",
    "    for tag in TagList:\n",
    "        L.extend([tag+suff for suff in suffices])\n",
    "    return pref + L\n",
    "    \n",
    "TagList = ANNO_Tag_List\n",
    "tagScheme = 'BIO'\n",
    "    \n",
    "print(getTagDict(TagList, tagScheme = tagScheme))"
   ]
  },
  {
   "cell_type": "markdown",
   "metadata": {},
   "source": [
    "# 4. Test for NLPText's `BUILD_GRAIN_UNI_AND_LOOKUP` with Given Channel Settings"
   ]
  },
  {
   "cell_type": "code",
   "execution_count": null,
   "metadata": {},
   "outputs": [],
   "source": [
    "\n",
    "\n",
    "from pprint import pprint\n",
    "from nlptext.base import BasicObject\n",
    "from nlptext.utils import reCutText2Sent\n",
    "\n",
    "########### MedPOS ###########\n",
    "CORPUSPath = 'corpus/medpos/'\n",
    "textType   = 'file'\n",
    "corpusFileIden = None\n",
    "Text2SentMethod  = 're'\n",
    "Sent2TokenMethod = 'iter'\n",
    "TOKENLevel = 'char'\n",
    "anno = '.UMLSTag'\n",
    "annoKW = {\n",
    "    'sep': '\\t',\n",
    "    'notZeroIndex': 0,\n",
    "}\n",
    "\n",
    "BasicObject.INIT(CORPUSPath, corpusFileIden, textType, \n",
    "                 Text2SentMethod, Sent2TokenMethod, TOKENLevel, \n",
    "                 anno, annoKW)"
   ]
  },
  {
   "cell_type": "code",
   "execution_count": null,
   "metadata": {},
   "outputs": [],
   "source": [
    "CHANNEL_SETTINGS_TEMPLATE = {\n",
    "    # CTX_IND\n",
    "    'token':   {'use': True, 'Max_Ngram': 1,},\n",
    "    'char':    {'use': True,'Max_Ngram': 1, 'end_grain': False},\n",
    "    'basic':   {'use': True,'Max_Ngram': 2, 'end_grain': False},\n",
    "    'medical': {'use': True,'Max_Ngram': 2, 'end_grain': False},\n",
    "    'radical': {'use': True,'Max_Ngram': 2, 'end_grain': False},\n",
    "    'subcomp': {'use': True,'Max_Ngram': 3, 'end_grain': True},\n",
    "    'stroke':  {'use': True,'Max_Ngram': 5, 'end_grain': True},\n",
    "    # CTX_DEP\n",
    "    'pos':     {'use': False,'Max_Ngram': 1, 'end_grain': False, 'tagScheme':   'BIO',},\n",
    "    # ANNO\n",
    "    'annoR':   {'use': False,'Max_Ngram': 1, 'end_grain': False, 'tagScheme':   'BIO',},\n",
    "    'annoE':   {'use': False,'Max_Ngram': 1, 'end_grain': False, 'tagScheme':   'BIO',},\n",
    "}\n",
    "\n",
    "BasicObject.BUILD_GRAIN_UNI_AND_LOOKUP(CHANNEL_SETTINGS_TEMPLATE=CHANNEL_SETTINGS_TEMPLATE)"
   ]
  },
  {
   "cell_type": "markdown",
   "metadata": {},
   "source": [
    "### Grain Unique"
   ]
  },
  {
   "cell_type": "code",
   "execution_count": null,
   "metadata": {
    "scrolled": true
   },
   "outputs": [],
   "source": [
    "print(BasicObject.GRAIN_UNI[BasicObject.TokenNum_Dir]['subcomp3e'][0])"
   ]
  },
  {
   "cell_type": "code",
   "execution_count": null,
   "metadata": {},
   "outputs": [],
   "source": [
    "print(BasicObject.GRAIN_UNI[BasicObject.TokenNum_Dir]['medical2'][0])"
   ]
  },
  {
   "cell_type": "code",
   "execution_count": null,
   "metadata": {},
   "outputs": [],
   "source": [
    "print(BasicObject.GRAIN_UNI[BasicObject.TokenNum_Dir]['stroke5e'][0])"
   ]
  },
  {
   "cell_type": "code",
   "execution_count": null,
   "metadata": {},
   "outputs": [],
   "source": [
    "print(BasicObject.GRAIN_UNI[BasicObject.TokenNum_Dir]['pos-es'][0])"
   ]
  },
  {
   "cell_type": "code",
   "execution_count": null,
   "metadata": {},
   "outputs": [],
   "source": [
    "print(BasicObject.GRAIN_UNI[BasicObject.TokenNum_Dir]['annoE-es'][0])"
   ]
  },
  {
   "cell_type": "code",
   "execution_count": null,
   "metadata": {
    "scrolled": false
   },
   "outputs": [],
   "source": [
    "print(BasicObject.GRAIN_UNI[BasicObject.TokenNum_Dir]['token'][0])"
   ]
  },
  {
   "cell_type": "markdown",
   "metadata": {},
   "source": [
    "### LOOKUP"
   ]
  },
  {
   "cell_type": "code",
   "execution_count": null,
   "metadata": {},
   "outputs": [],
   "source": [
    "BasicObject.getLookUp(channel_name = 'medical2')"
   ]
  },
  {
   "cell_type": "code",
   "execution_count": null,
   "metadata": {},
   "outputs": [],
   "source": [
    "BasicObject.getLookUp(channel_name = 'stroke5e')"
   ]
  },
  {
   "cell_type": "code",
   "execution_count": null,
   "metadata": {},
   "outputs": [],
   "source": [
    "from nlptext.token import Token\n",
    "\n",
    "tk = Token(20)\n",
    "\n",
    "tk"
   ]
  },
  {
   "cell_type": "code",
   "execution_count": null,
   "metadata": {},
   "outputs": [],
   "source": [
    "channel_dict = {'channel': 'subcomp', \n",
    "               'Max_Ngram':   2,\n",
    "               'end_grain':   False}\n",
    "\n",
    "tk.getGrainTensor(dontUseLookUp = True, **channel_dict)"
   ]
  },
  {
   "cell_type": "code",
   "execution_count": null,
   "metadata": {},
   "outputs": [],
   "source": [
    "tk.getGrainTensor(dontUseLookUp = True, **channel_dict)"
   ]
  },
  {
   "cell_type": "code",
   "execution_count": null,
   "metadata": {},
   "outputs": [],
   "source": [
    "tk.getChannelGrain(**channel_dict)"
   ]
  }
 ],
 "metadata": {
  "kernelspec": {
   "display_name": "Python 3",
   "language": "python",
   "name": "python3"
  },
  "language_info": {
   "codemirror_mode": {
    "name": "ipython",
    "version": 3
   },
   "file_extension": ".py",
   "mimetype": "text/x-python",
   "name": "python",
   "nbconvert_exporter": "python",
   "pygments_lexer": "ipython3",
   "version": "3.7.3"
  },
  "toc": {
   "base_numbering": 1,
   "nav_menu": {},
   "number_sections": true,
   "sideBar": true,
   "skip_h1_title": false,
   "title_cell": "Table of Contents",
   "title_sidebar": "Contents",
   "toc_cell": false,
   "toc_position": {},
   "toc_section_display": true,
   "toc_window_display": false
  },
  "varInspector": {
   "cols": {
    "lenName": 16,
    "lenType": 16,
    "lenVar": 40
   },
   "kernels_config": {
    "python": {
     "delete_cmd_postfix": "",
     "delete_cmd_prefix": "del ",
     "library": "var_list.py",
     "varRefreshCmd": "print(var_dic_list())"
    },
    "r": {
     "delete_cmd_postfix": ") ",
     "delete_cmd_prefix": "rm(",
     "library": "var_list.r",
     "varRefreshCmd": "cat(var_dic_list()) "
    }
   },
   "types_to_exclude": [
    "module",
    "function",
    "builtin_function_or_method",
    "instance",
    "_Feature"
   ],
   "window_display": false
  }
 },
 "nbformat": 4,
 "nbformat_minor": 2
}
