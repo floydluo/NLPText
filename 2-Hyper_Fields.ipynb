{
 "cells": [
  {
   "cell_type": "markdown",
   "metadata": {},
   "source": [
    "# Usage"
   ]
  },
  {
   "cell_type": "markdown",
   "metadata": {},
   "source": [
    "## Initialization"
   ]
  },
  {
   "cell_type": "code",
   "execution_count": 1,
   "metadata": {},
   "outputs": [
    {
     "name": "stderr",
     "output_type": "stream",
     "text": [
      "Building prefix dict from the default dictionary ...\n",
      "Loading model from cache /tmp/jieba.cache\n"
     ]
    },
    {
     "name": "stdout",
     "output_type": "stream",
     "text": [
      "'File'\n",
      "corpus/wiki/sample_wiki_smp.txt\n"
     ]
    },
    {
     "name": "stderr",
     "output_type": "stream",
     "text": [
      "Loading model cost 0.580 seconds.\n",
      "Prefix dict has been built succesfully.\n"
     ]
    },
    {
     "name": "stdout",
     "output_type": "stream",
     "text": [
      "Total Num of All    Tokens 8414\n",
      "Total Num of Unique Tokens 2003\n",
      "CORPUS\tit is Dumped into file: data/wiki/word/Pyramid/CORPUS.p\n",
      "CORPUS\tthe length of it is   : 1\n",
      "GROUP\tit is Dumped into file: data/wiki/word/Pyramid/GROUP.p\n",
      "GROUP\tthe length of it is   : 1\n",
      "TEXT\tit is Dumped into file: data/wiki/word/Pyramid/TEXT.p\n",
      "TEXT\tthe length of it is   : 100\n",
      "SENT\tit is Dumped into file: data/wiki/word/Pyramid/SENT.p\n",
      "SENT\tthe length of it is   : 100\n",
      "TOKEN\tit is Dumped into file: data/wiki/word/Pyramid/TOKEN.p\n",
      "TOKEN\tthe length of it is   : 8414\n",
      "**************************************** \n",
      "\n",
      "pos-bioes\tis Dumped into file: data/wiki/word/Vocab/pos-bioes.voc\n",
      "pos-bioes\tthe length of it is   : 229\n",
      "\t\tWrite to: data/wiki/word/Vocab/pos-bioes.tsv\n",
      "pos-bioes\tis Dumped into file: data/wiki/word/Vocab/token.voc\n",
      "pos-bioes\tthe length of it is   : 2003\n",
      "\t\tWrite to: data/wiki/word/Vocab/token.tsv\n",
      "****************************************\n"
     ]
    }
   ],
   "source": [
    "from pprint import pprint\n",
    "from nlptext.base import BasicObject\n",
    "\n",
    "########### Wiki ###########\n",
    "CORPUSPath = 'corpus/wiki/'\n",
    "\n",
    "Corpus2GroupMethod = '.txt'\n",
    "\n",
    "Group2TextMethod   = 'line'\n",
    "\n",
    "Text2SentMethod  = 'whole'\n",
    "\n",
    "Sent2TokenMethod = 'pos'\n",
    "TOKENLevel = 'word'\n",
    "min_token_freq = 1\n",
    "\n",
    "use_hyper = True\n",
    "\n",
    "anno = False\n",
    "annoKW = {}\n",
    "\n",
    "\n",
    "BasicObject.INIT(CORPUSPath, \n",
    "                 Corpus2GroupMethod, \n",
    "                 Group2TextMethod, \n",
    "                 Text2SentMethod, \n",
    "                 Sent2TokenMethod, TOKENLevel, min_token_freq = min_token_freq,\n",
    "                 use_hyper = use_hyper, \n",
    "                 anno = False, annoKW = {})\n"
   ]
  },
  {
   "cell_type": "markdown",
   "metadata": {},
   "source": [
    "## `getGrainVocab` and `VOCAB`"
   ]
  },
  {
   "cell_type": "code",
   "execution_count": 2,
   "metadata": {},
   "outputs": [
    {
     "name": "stdout",
     "output_type": "stream",
     "text": [
      "\t\tBuild GrainUnique for channel: pos-bio\n",
      "pos 1 False BIO\n",
      "\t\tWrite to: data/wiki/word/Vocab/pos-bio.voc\n",
      "\t\tWrite to: data/wiki/word/Vocab/pos-bio.tsv\n",
      "['O', 'a-B', 'a-I', 'ad-B', 'ad-I', 'ag-B', 'ag-I', 'an-B', 'an-I', 'b-B', 'b-I', 'c-B', 'c-I', 'd-B', 'd-I', 'df-B', 'df-I', 'dg-B', 'dg-I', 'e-B', 'e-I', 'eng-B', 'eng-I', 'f-B', 'f-I', 'g-B', 'g-I', 'h-B', 'h-I', 'i-B', 'i-I', 'j-B', 'j-I', 'k-B', 'k-I', 'l-B', 'l-I', 'm-B', 'm-I', 'mg-B', 'mg-I', 'mq-B', 'mq-I', 'n-B', 'n-I', 'ng-B', 'ng-I', 'nr-B', 'nr-I', 'nrfg-B', 'nrfg-I', 'nrt-B', 'nrt-I', 'ns-B', 'ns-I', 'nt-B', 'nt-I', 'nz-B', 'nz-I', 'o-B', 'o-I', 'p-B', 'p-I', 'q-B', 'q-I', 'r-B', 'r-I', 'rg-B', 'rg-I', 'rr-B', 'rr-I', 'rz-B', 'rz-I', 's-B', 's-I', 't-B', 't-I', 'tg-B', 'tg-I', 'u-B', 'u-I', 'ud-B', 'ud-I', 'ug-B', 'ug-I', 'uj-B', 'uj-I', 'ul-B', 'ul-I', 'uv-B', 'uv-I', 'uz-B', 'uz-I', 'v-B', 'v-I', 'vd-B', 'vd-I', 'vg-B', 'vg-I', 'vi-B', 'vi-I', 'vn-B', 'vn-I', 'vq-B', 'vq-I', 'x-B', 'x-I', 'y-B', 'y-I', 'yg-B', 'yg-I', 'z-B', 'z-I', 'zg-B', 'zg-I']\n",
      "{'O': 0, 'a-B': 1, 'a-I': 2, 'ad-B': 3, 'ad-I': 4, 'ag-B': 5, 'ag-I': 6, 'an-B': 7, 'an-I': 8, 'b-B': 9, 'b-I': 10, 'c-B': 11, 'c-I': 12, 'd-B': 13, 'd-I': 14, 'df-B': 15, 'df-I': 16, 'dg-B': 17, 'dg-I': 18, 'e-B': 19, 'e-I': 20, 'eng-B': 21, 'eng-I': 22, 'f-B': 23, 'f-I': 24, 'g-B': 25, 'g-I': 26, 'h-B': 27, 'h-I': 28, 'i-B': 29, 'i-I': 30, 'j-B': 31, 'j-I': 32, 'k-B': 33, 'k-I': 34, 'l-B': 35, 'l-I': 36, 'm-B': 37, 'm-I': 38, 'mg-B': 39, 'mg-I': 40, 'mq-B': 41, 'mq-I': 42, 'n-B': 43, 'n-I': 44, 'ng-B': 45, 'ng-I': 46, 'nr-B': 47, 'nr-I': 48, 'nrfg-B': 49, 'nrfg-I': 50, 'nrt-B': 51, 'nrt-I': 52, 'ns-B': 53, 'ns-I': 54, 'nt-B': 55, 'nt-I': 56, 'nz-B': 57, 'nz-I': 58, 'o-B': 59, 'o-I': 60, 'p-B': 61, 'p-I': 62, 'q-B': 63, 'q-I': 64, 'r-B': 65, 'r-I': 66, 'rg-B': 67, 'rg-I': 68, 'rr-B': 69, 'rr-I': 70, 'rz-B': 71, 'rz-I': 72, 's-B': 73, 's-I': 74, 't-B': 75, 't-I': 76, 'tg-B': 77, 'tg-I': 78, 'u-B': 79, 'u-I': 80, 'ud-B': 81, 'ud-I': 82, 'ug-B': 83, 'ug-I': 84, 'uj-B': 85, 'uj-I': 86, 'ul-B': 87, 'ul-I': 88, 'uv-B': 89, 'uv-I': 90, 'uz-B': 91, 'uz-I': 92, 'v-B': 93, 'v-I': 94, 'vd-B': 95, 'vd-I': 96, 'vg-B': 97, 'vg-I': 98, 'vi-B': 99, 'vi-I': 100, 'vn-B': 101, 'vn-I': 102, 'vq-B': 103, 'vq-I': 104, 'x-B': 105, 'x-I': 106, 'y-B': 107, 'y-I': 108, 'yg-B': 109, 'yg-I': 110, 'z-B': 111, 'z-I': 112, 'zg-B': 113, 'zg-I': 114}\n"
     ]
    }
   ],
   "source": [
    "GrainVocab = BasicObject.getGrainVocab('pos', tagScheme='BIO')\n",
    "print(GrainVocab[0])\n",
    "print(GrainVocab[1])"
   ]
  },
  {
   "cell_type": "code",
   "execution_count": 3,
   "metadata": {},
   "outputs": [
    {
     "name": "stdout",
     "output_type": "stream",
     "text": [
      "{'data/wiki/word/Vocab': {'pos-bioes': (['O', 'a-B', 'a-E', 'a-I', 'a-S', 'ad-B', 'ad-E', 'ad-I', 'ad-S', 'ag-B', 'ag-E', 'ag-I', 'ag-S', 'an-B', 'an-E', 'an-I', 'an-S', 'b-B', 'b-E', 'b-I', 'b-S', 'c-B', 'c-E', 'c-I', 'c-S', 'd-B', 'd-E', 'd-I', 'd-S', 'df-B', 'df-E', 'df-I', 'df-S', 'dg-B', 'dg-E', 'dg-I', 'dg-S', 'e-B', 'e-E', 'e-I', 'e-S', 'eng-B', 'eng-E', 'eng-I', 'eng-S', 'f-B', 'f-E', 'f-I', 'f-S', 'g-B', 'g-E', 'g-I', 'g-S', 'h-B', 'h-E', 'h-I', 'h-S', 'i-B', 'i-E', 'i-I', 'i-S', 'j-B', 'j-E', 'j-I', 'j-S', 'k-B', 'k-E', 'k-I', 'k-S', 'l-B', 'l-E', 'l-I', 'l-S', 'm-B', 'm-E', 'm-I', 'm-S', 'mg-B', 'mg-E', 'mg-I', 'mg-S', 'mq-B', 'mq-E', 'mq-I', 'mq-S', 'n-B', 'n-E', 'n-I', 'n-S', 'ng-B', 'ng-E', 'ng-I', 'ng-S', 'nr-B', 'nr-E', 'nr-I', 'nr-S', 'nrfg-B', 'nrfg-E', 'nrfg-I', 'nrfg-S', 'nrt-B', 'nrt-E', 'nrt-I', 'nrt-S', 'ns-B', 'ns-E', 'ns-I', 'ns-S', 'nt-B', 'nt-E', 'nt-I', 'nt-S', 'nz-B', 'nz-E', 'nz-I', 'nz-S', 'o-B', 'o-E', 'o-I', 'o-S', 'p-B', 'p-E', 'p-I', 'p-S', 'q-B', 'q-E', 'q-I', 'q-S', 'r-B', 'r-E', 'r-I', 'r-S', 'rg-B', 'rg-E', 'rg-I', 'rg-S', 'rr-B', 'rr-E', 'rr-I', 'rr-S', 'rz-B', 'rz-E', 'rz-I', 'rz-S', 's-B', 's-E', 's-I', 's-S', 't-B', 't-E', 't-I', 't-S', 'tg-B', 'tg-E', 'tg-I', 'tg-S', 'u-B', 'u-E', 'u-I', 'u-S', 'ud-B', 'ud-E', 'ud-I', 'ud-S', 'ug-B', 'ug-E', 'ug-I', 'ug-S', 'uj-B', 'uj-E', 'uj-I', 'uj-S', 'ul-B', 'ul-E', 'ul-I', 'ul-S', 'uv-B', 'uv-E', 'uv-I', 'uv-S', 'uz-B', 'uz-E', 'uz-I', 'uz-S', 'v-B', 'v-E', 'v-I', 'v-S', 'vd-B', 'vd-E', 'vd-I', 'vd-S', 'vg-B', 'vg-E', 'vg-I', 'vg-S', 'vi-B', 'vi-E', 'vi-I', 'vi-S', 'vn-B', 'vn-E', 'vn-I', 'vn-S', 'vq-B', 'vq-E', 'vq-I', 'vq-S', 'x-B', 'x-E', 'x-I', 'x-S', 'y-B', 'y-E', 'y-I', 'y-S', 'yg-B', 'yg-E', 'yg-I', 'yg-S', 'z-B', 'z-E', 'z-I', 'z-S', 'zg-B', 'zg-E', 'zg-I', 'zg-S'], {'O': 0, 'a-B': 1, 'a-E': 2, 'a-I': 3, 'a-S': 4, 'ad-B': 5, 'ad-E': 6, 'ad-I': 7, 'ad-S': 8, 'ag-B': 9, 'ag-E': 10, 'ag-I': 11, 'ag-S': 12, 'an-B': 13, 'an-E': 14, 'an-I': 15, 'an-S': 16, 'b-B': 17, 'b-E': 18, 'b-I': 19, 'b-S': 20, 'c-B': 21, 'c-E': 22, 'c-I': 23, 'c-S': 24, 'd-B': 25, 'd-E': 26, 'd-I': 27, 'd-S': 28, 'df-B': 29, 'df-E': 30, 'df-I': 31, 'df-S': 32, 'dg-B': 33, 'dg-E': 34, 'dg-I': 35, 'dg-S': 36, 'e-B': 37, 'e-E': 38, 'e-I': 39, 'e-S': 40, 'eng-B': 41, 'eng-E': 42, 'eng-I': 43, 'eng-S': 44, 'f-B': 45, 'f-E': 46, 'f-I': 47, 'f-S': 48, 'g-B': 49, 'g-E': 50, 'g-I': 51, 'g-S': 52, 'h-B': 53, 'h-E': 54, 'h-I': 55, 'h-S': 56, 'i-B': 57, 'i-E': 58, 'i-I': 59, 'i-S': 60, 'j-B': 61, 'j-E': 62, 'j-I': 63, 'j-S': 64, 'k-B': 65, 'k-E': 66, 'k-I': 67, 'k-S': 68, 'l-B': 69, 'l-E': 70, 'l-I': 71, 'l-S': 72, 'm-B': 73, 'm-E': 74, 'm-I': 75, 'm-S': 76, 'mg-B': 77, 'mg-E': 78, 'mg-I': 79, 'mg-S': 80, 'mq-B': 81, 'mq-E': 82, 'mq-I': 83, 'mq-S': 84, 'n-B': 85, 'n-E': 86, 'n-I': 87, 'n-S': 88, 'ng-B': 89, 'ng-E': 90, 'ng-I': 91, 'ng-S': 92, 'nr-B': 93, 'nr-E': 94, 'nr-I': 95, 'nr-S': 96, 'nrfg-B': 97, 'nrfg-E': 98, 'nrfg-I': 99, 'nrfg-S': 100, 'nrt-B': 101, 'nrt-E': 102, 'nrt-I': 103, 'nrt-S': 104, 'ns-B': 105, 'ns-E': 106, 'ns-I': 107, 'ns-S': 108, 'nt-B': 109, 'nt-E': 110, 'nt-I': 111, 'nt-S': 112, 'nz-B': 113, 'nz-E': 114, 'nz-I': 115, 'nz-S': 116, 'o-B': 117, 'o-E': 118, 'o-I': 119, 'o-S': 120, 'p-B': 121, 'p-E': 122, 'p-I': 123, 'p-S': 124, 'q-B': 125, 'q-E': 126, 'q-I': 127, 'q-S': 128, 'r-B': 129, 'r-E': 130, 'r-I': 131, 'r-S': 132, 'rg-B': 133, 'rg-E': 134, 'rg-I': 135, 'rg-S': 136, 'rr-B': 137, 'rr-E': 138, 'rr-I': 139, 'rr-S': 140, 'rz-B': 141, 'rz-E': 142, 'rz-I': 143, 'rz-S': 144, 's-B': 145, 's-E': 146, 's-I': 147, 's-S': 148, 't-B': 149, 't-E': 150, 't-I': 151, 't-S': 152, 'tg-B': 153, 'tg-E': 154, 'tg-I': 155, 'tg-S': 156, 'u-B': 157, 'u-E': 158, 'u-I': 159, 'u-S': 160, 'ud-B': 161, 'ud-E': 162, 'ud-I': 163, 'ud-S': 164, 'ug-B': 165, 'ug-E': 166, 'ug-I': 167, 'ug-S': 168, 'uj-B': 169, 'uj-E': 170, 'uj-I': 171, 'uj-S': 172, 'ul-B': 173, 'ul-E': 174, 'ul-I': 175, 'ul-S': 176, 'uv-B': 177, 'uv-E': 178, 'uv-I': 179, 'uv-S': 180, 'uz-B': 181, 'uz-E': 182, 'uz-I': 183, 'uz-S': 184, 'v-B': 185, 'v-E': 186, 'v-I': 187, 'v-S': 188, 'vd-B': 189, 'vd-E': 190, 'vd-I': 191, 'vd-S': 192, 'vg-B': 193, 'vg-E': 194, 'vg-I': 195, 'vg-S': 196, 'vi-B': 197, 'vi-E': 198, 'vi-I': 199, 'vi-S': 200, 'vn-B': 201, 'vn-E': 202, 'vn-I': 203, 'vn-S': 204, 'vq-B': 205, 'vq-E': 206, 'vq-I': 207, 'vq-S': 208, 'x-B': 209, 'x-E': 210, 'x-I': 211, 'x-S': 212, 'y-B': 213, 'y-E': 214, 'y-I': 215, 'y-S': 216, 'yg-B': 217, 'yg-E': 218, 'yg-I': 219, 'yg-S': 220, 'z-B': 221, 'z-E': 222, 'z-I': 223, 'z-S': 224, 'zg-B': 225, 'zg-E': 226, 'zg-I': 227, 'zg-S': 228}), 'pos-bio': (['O', 'a-B', 'a-I', 'ad-B', 'ad-I', 'ag-B', 'ag-I', 'an-B', 'an-I', 'b-B', 'b-I', 'c-B', 'c-I', 'd-B', 'd-I', 'df-B', 'df-I', 'dg-B', 'dg-I', 'e-B', 'e-I', 'eng-B', 'eng-I', 'f-B', 'f-I', 'g-B', 'g-I', 'h-B', 'h-I', 'i-B', 'i-I', 'j-B', 'j-I', 'k-B', 'k-I', 'l-B', 'l-I', 'm-B', 'm-I', 'mg-B', 'mg-I', 'mq-B', 'mq-I', 'n-B', 'n-I', 'ng-B', 'ng-I', 'nr-B', 'nr-I', 'nrfg-B', 'nrfg-I', 'nrt-B', 'nrt-I', 'ns-B', 'ns-I', 'nt-B', 'nt-I', 'nz-B', 'nz-I', 'o-B', 'o-I', 'p-B', 'p-I', 'q-B', 'q-I', 'r-B', 'r-I', 'rg-B', 'rg-I', 'rr-B', 'rr-I', 'rz-B', 'rz-I', 's-B', 's-I', 't-B', 't-I', 'tg-B', 'tg-I', 'u-B', 'u-I', 'ud-B', 'ud-I', 'ug-B', 'ug-I', 'uj-B', 'uj-I', 'ul-B', 'ul-I', 'uv-B', 'uv-I', 'uz-B', 'uz-I', 'v-B', 'v-I', 'vd-B', 'vd-I', 'vg-B', 'vg-I', 'vi-B', 'vi-I', 'vn-B', 'vn-I', 'vq-B', 'vq-I', 'x-B', 'x-I', 'y-B', 'y-I', 'yg-B', 'yg-I', 'z-B', 'z-I', 'zg-B', 'zg-I'], {'O': 0, 'a-B': 1, 'a-I': 2, 'ad-B': 3, 'ad-I': 4, 'ag-B': 5, 'ag-I': 6, 'an-B': 7, 'an-I': 8, 'b-B': 9, 'b-I': 10, 'c-B': 11, 'c-I': 12, 'd-B': 13, 'd-I': 14, 'df-B': 15, 'df-I': 16, 'dg-B': 17, 'dg-I': 18, 'e-B': 19, 'e-I': 20, 'eng-B': 21, 'eng-I': 22, 'f-B': 23, 'f-I': 24, 'g-B': 25, 'g-I': 26, 'h-B': 27, 'h-I': 28, 'i-B': 29, 'i-I': 30, 'j-B': 31, 'j-I': 32, 'k-B': 33, 'k-I': 34, 'l-B': 35, 'l-I': 36, 'm-B': 37, 'm-I': 38, 'mg-B': 39, 'mg-I': 40, 'mq-B': 41, 'mq-I': 42, 'n-B': 43, 'n-I': 44, 'ng-B': 45, 'ng-I': 46, 'nr-B': 47, 'nr-I': 48, 'nrfg-B': 49, 'nrfg-I': 50, 'nrt-B': 51, 'nrt-I': 52, 'ns-B': 53, 'ns-I': 54, 'nt-B': 55, 'nt-I': 56, 'nz-B': 57, 'nz-I': 58, 'o-B': 59, 'o-I': 60, 'p-B': 61, 'p-I': 62, 'q-B': 63, 'q-I': 64, 'r-B': 65, 'r-I': 66, 'rg-B': 67, 'rg-I': 68, 'rr-B': 69, 'rr-I': 70, 'rz-B': 71, 'rz-I': 72, 's-B': 73, 's-I': 74, 't-B': 75, 't-I': 76, 'tg-B': 77, 'tg-I': 78, 'u-B': 79, 'u-I': 80, 'ud-B': 81, 'ud-I': 82, 'ug-B': 83, 'ug-I': 84, 'uj-B': 85, 'uj-I': 86, 'ul-B': 87, 'ul-I': 88, 'uv-B': 89, 'uv-I': 90, 'uz-B': 91, 'uz-I': 92, 'v-B': 93, 'v-I': 94, 'vd-B': 95, 'vd-I': 96, 'vg-B': 97, 'vg-I': 98, 'vi-B': 99, 'vi-I': 100, 'vn-B': 101, 'vn-I': 102, 'vq-B': 103, 'vq-I': 104, 'x-B': 105, 'x-I': 106, 'y-B': 107, 'y-I': 108, 'yg-B': 109, 'yg-I': 110, 'z-B': 111, 'z-I': 112, 'zg-B': 113, 'zg-I': 114})}}\n"
     ]
    }
   ],
   "source": [
    "print(BasicObject.VOCAB)"
   ]
  },
  {
   "cell_type": "markdown",
   "metadata": {},
   "source": [
    "## `getTrans` and `TRANS`"
   ]
  },
  {
   "cell_type": "code",
   "execution_count": 5,
   "metadata": {},
   "outputs": [
    {
     "name": "stdout",
     "output_type": "stream",
     "text": [
      "{'0': 0, '1': 1, '2': 2, '3': 2, '4': 1, '5': 3, '6': 4, '7': 4, '8': 3, '9': 5, '10': 6, '11': 6, '12': 5, '13': 7, '14': 8, '15': 8, '16': 7, '17': 9, '18': 10, '19': 10, '20': 9, '21': 11, '22': 12, '23': 12, '24': 11, '25': 13, '26': 14, '27': 14, '28': 13, '29': 15, '30': 16, '31': 16, '32': 15, '33': 17, '34': 18, '35': 18, '36': 17, '37': 19, '38': 20, '39': 20, '40': 19, '41': 21, '42': 22, '43': 22, '44': 21, '45': 23, '46': 24, '47': 24, '48': 23, '49': 25, '50': 26, '51': 26, '52': 25, '53': 27, '54': 28, '55': 28, '56': 27, '57': 29, '58': 30, '59': 30, '60': 29, '61': 31, '62': 32, '63': 32, '64': 31, '65': 33, '66': 34, '67': 34, '68': 33, '69': 35, '70': 36, '71': 36, '72': 35, '73': 37, '74': 38, '75': 38, '76': 37, '77': 39, '78': 40, '79': 40, '80': 39, '81': 41, '82': 42, '83': 42, '84': 41, '85': 43, '86': 44, '87': 44, '88': 43, '89': 45, '90': 46, '91': 46, '92': 45, '93': 47, '94': 48, '95': 48, '96': 47, '97': 49, '98': 50, '99': 50, '100': 49, '101': 51, '102': 52, '103': 52, '104': 51, '105': 53, '106': 54, '107': 54, '108': 53, '109': 55, '110': 56, '111': 56, '112': 55, '113': 57, '114': 58, '115': 58, '116': 57, '117': 59, '118': 60, '119': 60, '120': 59, '121': 61, '122': 62, '123': 62, '124': 61, '125': 63, '126': 64, '127': 64, '128': 63, '129': 65, '130': 66, '131': 66, '132': 65, '133': 67, '134': 68, '135': 68, '136': 67, '137': 69, '138': 70, '139': 70, '140': 69, '141': 71, '142': 72, '143': 72, '144': 71, '145': 73, '146': 74, '147': 74, '148': 73, '149': 75, '150': 76, '151': 76, '152': 75, '153': 77, '154': 78, '155': 78, '156': 77, '157': 79, '158': 80, '159': 80, '160': 79, '161': 81, '162': 82, '163': 82, '164': 81, '165': 83, '166': 84, '167': 84, '168': 83, '169': 85, '170': 86, '171': 86, '172': 85, '173': 87, '174': 88, '175': 88, '176': 87, '177': 89, '178': 90, '179': 90, '180': 89, '181': 91, '182': 92, '183': 92, '184': 91, '185': 93, '186': 94, '187': 94, '188': 93, '189': 95, '190': 96, '191': 96, '192': 95, '193': 97, '194': 98, '195': 98, '196': 97, '197': 99, '198': 100, '199': 100, '200': 99, '201': 101, '202': 102, '203': 102, '204': 101, '205': 103, '206': 104, '207': 104, '208': 103, '209': 105, '210': 106, '211': 106, '212': 105, '213': 107, '214': 108, '215': 108, '216': 107, '217': 109, '218': 110, '219': 110, '220': 109, '221': 111, '222': 112, '223': 112, '224': 111, '225': 113, '226': 114, '227': 114, '228': 113}\n"
     ]
    }
   ],
   "source": [
    "TransDict = BasicObject.getTrans('pos', tagScheme='BIO')\n",
    "print(TransDict)"
   ]
  },
  {
   "cell_type": "markdown",
   "metadata": {},
   "source": [
    "# Hyper Fields Description\n",
    "\n",
    "TODO: about hyper fields"
   ]
  },
  {
   "cell_type": "markdown",
   "metadata": {},
   "source": [
    "# Input is a sentence in string format"
   ]
  },
  {
   "cell_type": "code",
   "execution_count": 2,
   "metadata": {},
   "outputs": [],
   "source": [
    "\n",
    "################## FOR THE CONTEXT-DEPENDENT CHANNELS ################\n",
    "\n",
    "\n",
    "# part-of-speech, we use jieba to seg and pos sentence, at the current time\n",
    "\n",
    "posTag = ['a', 'ad', 'ag', 'an', 'b', 'c', 'd', 'df', 'dg', 'e', 'eng', \n",
    "          'f', 'g', 'h', 'i', 'j', 'k', 'l', 'm', 'mg', 'mq', 'n', 'ng', 'nr', 'nrfg', \n",
    "          'nrt', 'ns', 'nt', 'nz', 'o', 'p', 'q', 'r', 'rg', 'rr','rz', 's', 't', \n",
    "          'tg', 'u', 'ud', 'ug', 'uj', 'ul', \n",
    "          'uv', 'uz', 'v', 'vd', 'vg', 'vi', 'vn', 'vq', 'x', 'y', 'yg', 'z', 'zg']\n",
    "\n",
    "def POSGrainSent(sent, tokenLevel = 'word', tagScheme = 'BIOES'):\n",
    "    '''\n",
    "        Here only for Atom is Char Based\n",
    "        This method should be enriched\n",
    "        sent: List of Token(String), with or without Start or End\n",
    "        sent: [str]\n",
    "    '''\n",
    "    segs = list(posseg.cut(''.join(sent)))\n",
    "    tokens = []\n",
    "    GrainSent = []\n",
    "\n",
    "    if tokenLevel == 'char':\n",
    "        for i in range(len(segs)):\n",
    "            pair  = segs[i]\n",
    "            leng  = len(pair.word)\n",
    "            label = pair.flag\n",
    "            labels= [label + '-I' ]*leng\n",
    "            labels[0] = label + '-B'\n",
    "            if 'E' in tagScheme and leng >= 2:\n",
    "                labels[-1] = label + '-E'\n",
    "            if 'S' in tagScheme and leng == 1:\n",
    "                labels[0] = label + '-S'\n",
    "            GrainSent.extend(labels)\n",
    "            tokens.extend([i for i in pair.word])\n",
    "        return GrainSent, tokens\n",
    "\n",
    "    elif tokenLevel == 'word':\n",
    "        for i in range(len(segs)):\n",
    "            pair  = segs[i]\n",
    "            label = pair.flag\n",
    "            # -B is necessary\n",
    "            GrainSent.append(label+ '-B') \n",
    "            tokens.append(pair.word )\n",
    "            # print(pair.word)\n",
    "        return GrainSent, tokens\n"
   ]
  },
  {
   "cell_type": "markdown",
   "metadata": {},
   "source": [
    "# Wrap Hyper Methods to Export"
   ]
  },
  {
   "cell_type": "code",
   "execution_count": 3,
   "metadata": {},
   "outputs": [],
   "source": [
    "# that is, we must know the tags and methods before we use it\n",
    "Channel_Dep_Methods = {'pos': POSGrainSent}\n",
    "Channel_Dep_TagSets = {'pos': posTag}"
   ]
  },
  {
   "cell_type": "markdown",
   "metadata": {},
   "source": [
    "# Generate TRANS in Base"
   ]
  },
  {
   "cell_type": "code",
   "execution_count": null,
   "metadata": {},
   "outputs": [],
   "source": []
  }
 ],
 "metadata": {
  "kernelspec": {
   "display_name": "Python 3",
   "language": "python",
   "name": "python3"
  },
  "language_info": {
   "codemirror_mode": {
    "name": "ipython",
    "version": 3
   },
   "file_extension": ".py",
   "mimetype": "text/x-python",
   "name": "python",
   "nbconvert_exporter": "python",
   "pygments_lexer": "ipython3",
   "version": "3.7.3"
  },
  "toc": {
   "base_numbering": 1,
   "nav_menu": {},
   "number_sections": true,
   "sideBar": true,
   "skip_h1_title": false,
   "title_cell": "Table of Contents",
   "title_sidebar": "Contents",
   "toc_cell": false,
   "toc_position": {},
   "toc_section_display": true,
   "toc_window_display": true
  }
 },
 "nbformat": 4,
 "nbformat_minor": 2
}
