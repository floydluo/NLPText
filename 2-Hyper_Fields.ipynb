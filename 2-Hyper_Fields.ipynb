{
 "cells": [
  {
   "cell_type": "markdown",
   "metadata": {},
   "source": [
    "# Hyper Fields Description\n",
    "\n",
    "TODO: about hyper fields"
   ]
  },
  {
   "cell_type": "markdown",
   "metadata": {},
   "source": [
    "# Input is a sentence in string format"
   ]
  },
  {
   "cell_type": "code",
   "execution_count": 2,
   "metadata": {},
   "outputs": [],
   "source": [
    "\n",
    "################## FOR THE CONTEXT-DEPENDENT CHANNELS ################\n",
    "\n",
    "\n",
    "# part-of-speech, we use jieba to seg and pos sentence, at the current time\n",
    "\n",
    "posTag = ['a', 'ad', 'ag', 'an', 'b', 'c', 'd', 'df', 'dg', 'e', 'eng', \n",
    "          'f', 'g', 'h', 'i', 'j', 'k', 'l', 'm', 'mg', 'mq', 'n', 'ng', 'nr', 'nrfg', \n",
    "          'nrt', 'ns', 'nt', 'nz', 'o', 'p', 'q', 'r', 'rg', 'rr','rz', 's', 't', \n",
    "          'tg', 'u', 'ud', 'ug', 'uj', 'ul', \n",
    "          'uv', 'uz', 'v', 'vd', 'vg', 'vi', 'vn', 'vq', 'x', 'y', 'yg', 'z', 'zg']\n",
    "\n",
    "def POSGrainSent(sent, tokenLevel = 'word', tagScheme = 'BIOES'):\n",
    "    '''\n",
    "        Here only for Atom is Char Based\n",
    "        This method should be enriched\n",
    "        sent: List of Token(String), with or without Start or End\n",
    "        sent: [str]\n",
    "    '''\n",
    "    segs = list(posseg.cut(''.join(sent)))\n",
    "    tokens = []\n",
    "    GrainSent = []\n",
    "\n",
    "    if tokenLevel == 'char':\n",
    "        for i in range(len(segs)):\n",
    "            pair  = segs[i]\n",
    "            leng  = len(pair.word)\n",
    "            label = pair.flag\n",
    "            labels= [label + '-I' ]*leng\n",
    "            labels[0] = label + '-B'\n",
    "            if 'E' in tagScheme and leng >= 2:\n",
    "                labels[-1] = label + '-E'\n",
    "            if 'S' in tagScheme and leng == 1:\n",
    "                labels[0] = label + '-S'\n",
    "            GrainSent.extend(labels)\n",
    "            tokens.extend([i for i in pair.word])\n",
    "        return GrainSent, tokens\n",
    "\n",
    "    elif tokenLevel == 'word':\n",
    "        for i in range(len(segs)):\n",
    "            pair  = segs[i]\n",
    "            label = pair.flag\n",
    "            # -B is necessary\n",
    "            GrainSent.append(label+ '-B') \n",
    "            tokens.append(pair.word )\n",
    "            # print(pair.word)\n",
    "        return GrainSent, tokens\n"
   ]
  },
  {
   "cell_type": "markdown",
   "metadata": {},
   "source": [
    "# Wrap Hyper Methods to Export"
   ]
  },
  {
   "cell_type": "code",
   "execution_count": 3,
   "metadata": {},
   "outputs": [],
   "source": [
    "# that is, we must know the tags and methods before we use it\n",
    "Channel_Dep_Methods = {'pos': POSGrainSent}\n",
    "Channel_Dep_TagSets = {'pos': posTag}"
   ]
  },
  {
   "cell_type": "markdown",
   "metadata": {},
   "source": [
    "# Generate TRANS in Base"
   ]
  },
  {
   "cell_type": "code",
   "execution_count": null,
   "metadata": {},
   "outputs": [],
   "source": []
  }
 ],
 "metadata": {
  "kernelspec": {
   "display_name": "Python 3",
   "language": "python",
   "name": "python3"
  },
  "language_info": {
   "codemirror_mode": {
    "name": "ipython",
    "version": 3
   },
   "file_extension": ".py",
   "mimetype": "text/x-python",
   "name": "python",
   "nbconvert_exporter": "python",
   "pygments_lexer": "ipython3",
   "version": "3.7.3"
  },
  "toc": {
   "base_numbering": 1,
   "nav_menu": {},
   "number_sections": true,
   "sideBar": true,
   "skip_h1_title": false,
   "title_cell": "Table of Contents",
   "title_sidebar": "Contents",
   "toc_cell": false,
   "toc_position": {},
   "toc_section_display": true,
   "toc_window_display": true
  }
 },
 "nbformat": 4,
 "nbformat_minor": 2
}
