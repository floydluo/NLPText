{
 "cells": [
  {
   "cell_type": "markdown",
   "metadata": {},
   "source": [
    "# Get Initialized Data"
   ]
  },
  {
   "cell_type": "code",
   "execution_count": 1,
   "metadata": {},
   "outputs": [
    {
     "name": "stderr",
     "output_type": "stream",
     "text": [
      "Building prefix dict from the default dictionary ...\n",
      "Loading model from cache /tmp/jieba.cache\n"
     ]
    },
    {
     "name": "stdout",
     "output_type": "stream",
     "text": [
      "'File'\n",
      "corpus/wiki/sample_wiki_smp.txt\n"
     ]
    },
    {
     "name": "stderr",
     "output_type": "stream",
     "text": [
      "Loading model cost 0.617 seconds.\n",
      "Prefix dict has been built succesfully.\n"
     ]
    },
    {
     "name": "stdout",
     "output_type": "stream",
     "text": [
      "Total Num of All    Tokens 41843\n",
      "Total Num of Unique Tokens 5965\n",
      "CORPUS\tit is Dumped into file: data/wiki/word/Pyramid/CORPUS.p\n",
      "CORPUS\tthe length of it is   : 1\n",
      "GROUP\tit is Dumped into file: data/wiki/word/Pyramid/GROUP.p\n",
      "GROUP\tthe length of it is   : 1\n",
      "TEXT\tit is Dumped into file: data/wiki/word/Pyramid/TEXT.p\n",
      "TEXT\tthe length of it is   : 500\n",
      "SENT\tit is Dumped into file: data/wiki/word/Pyramid/SENT.p\n",
      "SENT\tthe length of it is   : 500\n",
      "TOKEN\tit is Dumped into file: data/wiki/word/Pyramid/TOKEN.p\n",
      "TOKEN\tthe length of it is   : 41843\n",
      "**************************************** \n",
      "\n",
      "pos-es\tis Dumped into file: data/wiki/word/Vocab/pos-es.voc\n",
      "pos-es\tthe length of it is   : 229\n",
      "\t\tWrite to: data/wiki/word/Vocab/pos-es.tsv\n",
      "token\tis Dumped into file: data/wiki/word/Vocab/token.voc\n",
      "token\tthe length of it is   : 5965\n",
      "\t\tWrite to: data/wiki/word/Vocab/token.tsv\n",
      "****************************************\n"
     ]
    }
   ],
   "source": [
    "from pprint import pprint\n",
    "from nlptext.base import BasicObject\n",
    "\n",
    "########### Wiki ###########\n",
    "CORPUSPath = 'corpus/wiki/'\n",
    "corpusFileIden = '.txt'\n",
    "\n",
    "textType   = 'line'\n",
    "\n",
    "Text2SentMethod  = 'whole'\n",
    "\n",
    "# sentence to tokens\n",
    "Sent2TokenMethod = 'pos'\n",
    "TOKENLevel = 'word'\n",
    "use_hyper = True\n",
    "\n",
    "anno = False\n",
    "annoKW = {}\n",
    "\n",
    "BasicObject.INIT(CORPUSPath, corpusFileIden, textType, \n",
    "                 Text2SentMethod, Sent2TokenMethod, TOKENLevel, \n",
    "                 anno, annoKW, use_hyper = use_hyper)\n"
   ]
  },
  {
   "cell_type": "markdown",
   "metadata": {},
   "source": [
    "# Corpus"
   ]
  },
  {
   "cell_type": "markdown",
   "metadata": {},
   "source": [
    "# Group"
   ]
  },
  {
   "cell_type": "markdown",
   "metadata": {},
   "source": [
    "# Text"
   ]
  },
  {
   "cell_type": "markdown",
   "metadata": {},
   "source": [
    "## Text from Pyramid"
   ]
  },
  {
   "cell_type": "markdown",
   "metadata": {},
   "source": [
    "### Built-in Methods"
   ]
  },
  {
   "cell_type": "code",
   "execution_count": 4,
   "metadata": {},
   "outputs": [
    {
     "data": {
      "text/plain": [
       "'许多 哲学家 相信 数学 在 经验 上 不具 可否 证性 , 且 因此 不是 卡尔 · 波普尔 所 定义 的 科学 。 但 在 1930 年代 时 , 在 数理逻辑 上 的 重大进展 显示 数学 不能 归并 至 逻辑 内 , 且 波普尔 推断 「 大部份 的 数学 定律 , 如 物理 及 生物学 一样 , 是 假设 演绎 的 : 纯数学 因此 变得 更 接近 其 假设 为 猜测 的 自然科学 , 比 它 现在 看起来 更 接近 。 」 然而 , 其他 的 思想家 , 如 较 著名 的 拉 卡托斯 , 便 提供 了 一个 关于 数学 本身 的 可否 证性 版本 。'"
      ]
     },
     "execution_count": 4,
     "metadata": {},
     "output_type": "execute_result"
    }
   ],
   "source": [
    "from nlptext.text import Text\n",
    "\n",
    "\n",
    "locidx = 19\n",
    "obj = Text(locidx)\n",
    "obj.text"
   ]
  },
  {
   "cell_type": "code",
   "execution_count": 5,
   "metadata": {},
   "outputs": [
    {
     "data": {
      "text/plain": [
       "'许多 哲学家 相信 数学 在 经验 上 不具 可否 证性 , 且 因此 不是 卡尔 · 波普尔 所 定义 的 科学 。 但 在 1930 年代 时 , 在 数理逻辑 上 的 重大进展 显示 数学 不能 归并 至 逻辑 内 , 且 波普尔 推断 「 大部份 的 数学 定律 , 如 物理 及 生物学 一样 , 是 假设 演绎 的 : 纯数学 因此 变得 更 接近 其 假设 为 猜测 的 自然科学 , 比 它 现在 看起来 更 接近 。 」 然而 , 其他 的 思想家 , 如 较 著名 的 拉 卡托斯 , 便 提供 了 一个 关于 数学 本身 的 可否 证性 版本 。'"
      ]
     },
     "execution_count": 5,
     "metadata": {},
     "output_type": "execute_result"
    }
   ],
   "source": [
    "obj.get_stored_hyper('token')"
   ]
  },
  {
   "cell_type": "code",
   "execution_count": 9,
   "metadata": {},
   "outputs": [
    {
     "data": {
      "text/plain": [
       "'73 85 185 85 121 85 45 85 185 85 209 225 21 21 101 209 93 21 85 169 85 209 21 121 73 149 85 209 121 85 45 169 109 185 85 185 185 121 85 85 209 225 93 185 209 73 169 85 85 209 185 85 21 85 129 209 185 201 185 169 209 85 21 185 25 185 129 201 121 201 169 69 209 121 129 149 185 25 185 209 209 21 209 129 169 69 209 185 25 1 169 185 93 209 25 185 173 73 121 85 129 169 185 85 85 209'"
      ]
     },
     "execution_count": 9,
     "metadata": {},
     "output_type": "execute_result"
    }
   ],
   "source": [
    "obj.get_stored_hyper('pos')"
   ]
  },
  {
   "cell_type": "code",
   "execution_count": 7,
   "metadata": {},
   "outputs": [
    {
     "name": "stdout",
     "output_type": "stream",
     "text": [
      "[73, 85, 185, 85, 121, 85, 45, 85, 185, 85, 209, 225, 21, 21, 101, 209, 93, 21, 85, 169, 85, 209, 21, 121, 73, 149, 85, 209, 121, 85, 45, 169, 109, 185, 85, 185, 185, 121, 85, 85, 209, 225, 93, 185, 209, 73, 169, 85, 85, 209, 185, 85, 21, 85, 129, 209, 185, 201, 185, 169, 209, 85, 21, 185, 25, 185, 129, 201, 121, 201, 169, 69, 209, 121, 129, 149, 185, 25, 185, 209, 209, 21, 209, 129, 169, 69, 209, 185, 25, 1, 169, 185, 93, 209, 25, 185, 173, 73, 121, 85, 129, 169, 185, 85, 85, 209]\n"
     ]
    }
   ],
   "source": [
    "print(obj.get_stored_hypertagscheme('pos', 'BIOES'))"
   ]
  },
  {
   "cell_type": "code",
   "execution_count": 10,
   "metadata": {},
   "outputs": [
    {
     "name": "stdout",
     "output_type": "stream",
     "text": [
      "\t\tBuild GrainUnique for channel: pos\n",
      "pos 1 False BIO\n",
      "\t\tWrite to: data/wiki/word/Vocab/pos.voc\n",
      "\t\tWrite to: data/wiki/word/Vocab/pos.tsv\n",
      "['m-B', 'n-B', 'v-B', 'n-B', 'p-B', 'n-B', 'f-B', 'n-B', 'v-B', 'n-B', 'x-B', 'zg-B', 'c-B', 'c-B', 'nrt-B', 'x-B', 'nr-B', 'c-B', 'n-B', 'uj-B', 'n-B', 'x-B', 'c-B', 'p-B', 'm-B', 't-B', 'n-B', 'x-B', 'p-B', 'n-B', 'f-B', 'uj-B', 'nt-B', 'v-B', 'n-B', 'v-B', 'v-B', 'p-B', 'n-B', 'n-B', 'x-B', 'zg-B', 'nr-B', 'v-B', 'x-B', 'm-B', 'uj-B', 'n-B', 'n-B', 'x-B', 'v-B', 'n-B', 'c-B', 'n-B', 'r-B', 'x-B', 'v-B', 'vn-B', 'v-B', 'uj-B', 'x-B', 'n-B', 'c-B', 'v-B', 'd-B', 'v-B', 'r-B', 'vn-B', 'p-B', 'vn-B', 'uj-B', 'l-B', 'x-B', 'p-B', 'r-B', 't-B', 'v-B', 'd-B', 'v-B', 'x-B', 'x-B', 'c-B', 'x-B', 'r-B', 'uj-B', 'l-B', 'x-B', 'v-B', 'd-B', 'a-B', 'uj-B', 'v-B', 'nr-B', 'x-B', 'd-B', 'v-B', 'ul-B', 'm-B', 'p-B', 'n-B', 'r-B', 'uj-B', 'v-B', 'n-B', 'n-B', 'x-B']\n"
     ]
    }
   ],
   "source": [
    "print(t.get_stored_hyperstring('pos', 'BIO'))"
   ]
  },
  {
   "cell_type": "markdown",
   "metadata": {},
   "source": [
    "## Text Newly Created"
   ]
  },
  {
   "cell_type": "markdown",
   "metadata": {},
   "source": [
    "# Sentence"
   ]
  },
  {
   "cell_type": "markdown",
   "metadata": {},
   "source": [
    "## Sentence from Pyramid"
   ]
  },
  {
   "cell_type": "markdown",
   "metadata": {},
   "source": [
    "### Built-in Methods"
   ]
  },
  {
   "cell_type": "code",
   "execution_count": 13,
   "metadata": {},
   "outputs": [
    {
     "data": {
      "text/plain": [
       "'许多 哲学家 相信 数学 在 经验 上 不具 可否 证性 , 且 因此 不是 卡尔 · 波普尔 所 定义 的 科学 。 但 在 1930 年代 时 , 在 数理逻辑 上 的 重大进展 显示 数学 不能 归并 至 逻辑 内 , 且 波普尔 推断 「 大部份 的 数学 定律 , 如 物理 及 生物学 一样 , 是 假设 演绎 的 : 纯数学 因此 变得 更 接近 其 假设 为 猜测 的 自然科学 , 比 它 现在 看起来 更 接近 。 」 然而 , 其他 的 思想家 , 如 较 著名 的 拉 卡托斯 , 便 提供 了 一个 关于 数学 本身 的 可否 证性 版本 。'"
      ]
     },
     "execution_count": 13,
     "metadata": {},
     "output_type": "execute_result"
    }
   ],
   "source": [
    "from nlptext.sentence import Sentence\n",
    "\n",
    "locidx = 19\n",
    "obj = Sentence(locidx)\n",
    "obj.sentence"
   ]
  },
  {
   "cell_type": "code",
   "execution_count": 14,
   "metadata": {},
   "outputs": [
    {
     "data": {
      "text/plain": [
       "'许多 哲学家 相信 数学 在 经验 上 不具 可否 证性 , 且 因此 不是 卡尔 · 波普尔 所 定义 的 科学 。 但 在 1930 年代 时 , 在 数理逻辑 上 的 重大进展 显示 数学 不能 归并 至 逻辑 内 , 且 波普尔 推断 「 大部份 的 数学 定律 , 如 物理 及 生物学 一样 , 是 假设 演绎 的 : 纯数学 因此 变得 更 接近 其 假设 为 猜测 的 自然科学 , 比 它 现在 看起来 更 接近 。 」 然而 , 其他 的 思想家 , 如 较 著名 的 拉 卡托斯 , 便 提供 了 一个 关于 数学 本身 的 可否 证性 版本 。'"
      ]
     },
     "execution_count": 14,
     "metadata": {},
     "output_type": "execute_result"
    }
   ],
   "source": [
    "obj.get_stored_hyper('token')"
   ]
  },
  {
   "cell_type": "code",
   "execution_count": 15,
   "metadata": {},
   "outputs": [
    {
     "name": "stdout",
     "output_type": "stream",
     "text": [
      "[73, 85, 185, 85, 121, 85, 45, 85, 185, 85, 209, 225, 21, 21, 101, 209, 93, 21, 85, 169, 85, 209, 21, 121, 73, 149, 85, 209, 121, 85, 45, 169, 109, 185, 85, 185, 185, 121, 85, 85, 209, 225, 93, 185, 209, 73, 169, 85, 85, 209, 185, 85, 21, 85, 129, 209, 185, 201, 185, 169, 209, 85, 21, 185, 25, 185, 129, 201, 121, 201, 169, 69, 209, 121, 129, 149, 185, 25, 185, 209, 209, 21, 209, 129, 169, 69, 209, 185, 25, 1, 169, 185, 93, 209, 25, 185, 173, 73, 121, 85, 129, 169, 185, 85, 85, 209]\n"
     ]
    }
   ],
   "source": [
    "print(obj.get_stored_hypertagscheme('pos', 'BIOES'))"
   ]
  },
  {
   "cell_type": "code",
   "execution_count": 16,
   "metadata": {},
   "outputs": [
    {
     "name": "stdout",
     "output_type": "stream",
     "text": [
      "['m-B', 'n-B', 'v-B', 'n-B', 'p-B', 'n-B', 'f-B', 'n-B', 'v-B', 'n-B', 'x-B', 'zg-B', 'c-B', 'c-B', 'nrt-B', 'x-B', 'nr-B', 'c-B', 'n-B', 'uj-B', 'n-B', 'x-B', 'c-B', 'p-B', 'm-B', 't-B', 'n-B', 'x-B', 'p-B', 'n-B', 'f-B', 'uj-B', 'nt-B', 'v-B', 'n-B', 'v-B', 'v-B', 'p-B', 'n-B', 'n-B', 'x-B', 'zg-B', 'nr-B', 'v-B', 'x-B', 'm-B', 'uj-B', 'n-B', 'n-B', 'x-B', 'v-B', 'n-B', 'c-B', 'n-B', 'r-B', 'x-B', 'v-B', 'vn-B', 'v-B', 'uj-B', 'x-B', 'n-B', 'c-B', 'v-B', 'd-B', 'v-B', 'r-B', 'vn-B', 'p-B', 'vn-B', 'uj-B', 'l-B', 'x-B', 'p-B', 'r-B', 't-B', 'v-B', 'd-B', 'v-B', 'x-B', 'x-B', 'c-B', 'x-B', 'r-B', 'uj-B', 'l-B', 'x-B', 'v-B', 'd-B', 'a-B', 'uj-B', 'v-B', 'nr-B', 'x-B', 'd-B', 'v-B', 'ul-B', 'm-B', 'p-B', 'n-B', 'r-B', 'uj-B', 'v-B', 'n-B', 'n-B', 'x-B']\n"
     ]
    }
   ],
   "source": [
    "print(obj.get_stored_hyperstring('pos', 'BIOES'))"
   ]
  },
  {
   "cell_type": "code",
   "execution_count": 17,
   "metadata": {},
   "outputs": [
    {
     "name": "stdout",
     "output_type": "stream",
     "text": [
      "['m-B', 'n-B', 'v-B', 'n-B', 'p-B', 'n-B', 'f-B', 'n-B', 'v-B', 'n-B', 'x-B', 'zg-B', 'c-B', 'c-B', 'nrt-B', 'x-B', 'nr-B', 'c-B', 'n-B', 'uj-B', 'n-B', 'x-B', 'c-B', 'p-B', 'm-B', 't-B', 'n-B', 'x-B', 'p-B', 'n-B', 'f-B', 'uj-B', 'nt-B', 'v-B', 'n-B', 'v-B', 'v-B', 'p-B', 'n-B', 'n-B', 'x-B', 'zg-B', 'nr-B', 'v-B', 'x-B', 'm-B', 'uj-B', 'n-B', 'n-B', 'x-B', 'v-B', 'n-B', 'c-B', 'n-B', 'r-B', 'x-B', 'v-B', 'vn-B', 'v-B', 'uj-B', 'x-B', 'n-B', 'c-B', 'v-B', 'd-B', 'v-B', 'r-B', 'vn-B', 'p-B', 'vn-B', 'uj-B', 'l-B', 'x-B', 'p-B', 'r-B', 't-B', 'v-B', 'd-B', 'v-B', 'x-B', 'x-B', 'c-B', 'x-B', 'r-B', 'uj-B', 'l-B', 'x-B', 'v-B', 'd-B', 'a-B', 'uj-B', 'v-B', 'nr-B', 'x-B', 'd-B', 'v-B', 'ul-B', 'm-B', 'p-B', 'n-B', 'r-B', 'uj-B', 'v-B', 'n-B', 'n-B', 'x-B']\n"
     ]
    }
   ],
   "source": [
    "print(obj.get_stored_hyperstring('pos', 'BIO'))"
   ]
  },
  {
   "cell_type": "markdown",
   "metadata": {},
   "source": [
    "## Sentence Newly Created"
   ]
  },
  {
   "cell_type": "markdown",
   "metadata": {},
   "source": [
    "# Token"
   ]
  },
  {
   "cell_type": "markdown",
   "metadata": {},
   "source": [
    "## Token from Pyramid"
   ]
  },
  {
   "cell_type": "markdown",
   "metadata": {},
   "source": [
    "## Token Newly Created"
   ]
  },
  {
   "cell_type": "code",
   "execution_count": null,
   "metadata": {},
   "outputs": [],
   "source": []
  }
 ],
 "metadata": {
  "kernelspec": {
   "display_name": "Python 3",
   "language": "python",
   "name": "python3"
  },
  "language_info": {
   "codemirror_mode": {
    "name": "ipython",
    "version": 3
   },
   "file_extension": ".py",
   "mimetype": "text/x-python",
   "name": "python",
   "nbconvert_exporter": "python",
   "pygments_lexer": "ipython3",
   "version": "3.7.3"
  },
  "toc": {
   "base_numbering": 1,
   "nav_menu": {},
   "number_sections": true,
   "sideBar": true,
   "skip_h1_title": false,
   "title_cell": "Table of Contents",
   "title_sidebar": "Contents",
   "toc_cell": false,
   "toc_position": {},
   "toc_section_display": true,
   "toc_window_display": true
  }
 },
 "nbformat": 4,
 "nbformat_minor": 2
}
