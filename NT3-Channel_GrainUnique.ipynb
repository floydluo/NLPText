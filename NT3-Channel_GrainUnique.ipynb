{
 "cells": [
  {
   "cell_type": "markdown",
   "metadata": {},
   "source": [
    "# 1. Test Corpus\n",
    "## 1.1 Initialize Corpus"
   ]
  },
  {
   "cell_type": "code",
   "execution_count": null,
   "metadata": {},
   "outputs": [],
   "source": [
    "from pprint import pprint\n",
    "from nlptext.base import BasicObject\n",
    "\n",
    "########### ResumeNER ###########\n",
    "CORPUSPath = 'dataset/ResumeNER/'\n",
    "corpusFileIden = '.bmes'\n",
    "textType   = 'block'\n",
    "Text2SentMethod  = 're'\n",
    "Sent2TokenMethod = 'iter'\n",
    "TOKENLevel = 'char'\n",
    "anno = 'embed'\n",
    "annoKW = {}\n",
    "\n",
    "MaxTextIdx = False\n",
    "\n",
    "BasicObject.INIT(CORPUSPath, corpusFileIden, textType, \n",
    "                 Text2SentMethod, Sent2TokenMethod, TOKENLevel, \n",
    "                 anno, annoKW, MaxTextIdx)\n",
    "\n",
    "\n",
    "from nlptext.corpus import Corpus\n",
    "corpus = Corpus()\n",
    "# corpus.IdxFolderStartEnd\n",
    "\n",
    "print([i for i in corpus.TOKEN])\n"
   ]
  },
  {
   "cell_type": "code",
   "execution_count": null,
   "metadata": {},
   "outputs": [],
   "source": [
    "ListTokenUnique, DictTokenUniqe = corpus.TokenUnique\n",
    "print(ListTokenUnique)"
   ]
  },
  {
   "cell_type": "markdown",
   "metadata": {},
   "source": [
    "## 1.2 Test in Corpus System\n",
    "\n",
    "\n",
    "### 1.2.1 CTX_IND_CHANNELS\n",
    "#### Token"
   ]
  },
  {
   "cell_type": "code",
   "execution_count": null,
   "metadata": {},
   "outputs": [],
   "source": [
    "channel = 'stroke'\n",
    "\n",
    "tk = corpus.Tokens[10]\n",
    "print(tk.getChannelGrain(channel, end_grain=True))"
   ]
  },
  {
   "cell_type": "markdown",
   "metadata": {},
   "source": [
    "#### Sentence"
   ]
  },
  {
   "cell_type": "code",
   "execution_count": null,
   "metadata": {
    "scrolled": true
   },
   "outputs": [],
   "source": [
    "channel = 'stroke'\n",
    "st = corpus.Sentences[2]\n",
    "print(st.getChannelGrain(channel, Max_Ngram=2, useStartEnd=True, end_grain=True))"
   ]
  },
  {
   "cell_type": "markdown",
   "metadata": {},
   "source": [
    "### 1.2.2 CTX_DEP_CHANNELS\n",
    "\n",
    "#### Token"
   ]
  },
  {
   "cell_type": "code",
   "execution_count": null,
   "metadata": {},
   "outputs": [],
   "source": [
    "tk = corpus.Tokens[10]\n",
    "print(tk)\n",
    "print()\n",
    "print(tk.getChannelGrain('stroke'))\n",
    "print()\n",
    "print(tk.getChannelGrain('subcomp', Max_Ngram=2, end_grain=True))\n",
    "print()\n",
    "print(tk.getChannelGrain('pos'))"
   ]
  },
  {
   "cell_type": "markdown",
   "metadata": {},
   "source": [
    "#### Sentence"
   ]
  },
  {
   "cell_type": "code",
   "execution_count": null,
   "metadata": {
    "scrolled": true
   },
   "outputs": [],
   "source": [
    "\n",
    "st = corpus.Sentences[2]\n",
    "\n",
    "print(st.getChannelGrain('stroke'))\n",
    "print()\n",
    "print(st.getChannelGrain('subcomp', end_grain=True))\n",
    "print()\n",
    "print(st.getChannelGrain('pos'))\n",
    "\n",
    "print()\n",
    "print(st.getChannelGrain('pos', Max_Ngram=2, useStartEnd=True))"
   ]
  },
  {
   "cell_type": "markdown",
   "metadata": {},
   "source": [
    "### 1.2.3 ANNO_CHANNEL\n",
    "\n",
    "#### Token"
   ]
  },
  {
   "cell_type": "code",
   "execution_count": null,
   "metadata": {},
   "outputs": [],
   "source": [
    "# one applicable in the corpus text\n",
    "channel = 'annoE'\n",
    "\n",
    "tk = corpus.Tokens[10]\n",
    "print(tk.getChannelGrain(channel, end_grain=True))"
   ]
  },
  {
   "cell_type": "code",
   "execution_count": null,
   "metadata": {},
   "outputs": [],
   "source": [
    "channel = 'annoE'\n",
    "st = corpus.Sentences[2]\n",
    "print(st.sentence, '\\n')\n",
    "print(st.getChannelGrain(channel, useStartEnd=True), '\\n')\n",
    "\n",
    "channel = 'annoR'\n",
    "st = corpus.Sentences[2]\n",
    "print(st.getChannelGrain(channel, useStartEnd=True), '\\n')"
   ]
  },
  {
   "cell_type": "code",
   "execution_count": null,
   "metadata": {},
   "outputs": [],
   "source": [
    "channel = 'annoE'\n",
    "list(zip(st.sentence, st.getChannelGrain(channel, useStartEnd=False)))"
   ]
  },
  {
   "cell_type": "markdown",
   "metadata": {},
   "source": [
    "## 1.3 Test in New Sentence whose TOKENLevel is Word"
   ]
  },
  {
   "cell_type": "code",
   "execution_count": null,
   "metadata": {},
   "outputs": [],
   "source": [
    "PAD   = '</pad>'\n",
    "START = '</start>'\n",
    "END   = '</end>'\n",
    "UNK   = '</unk>'\n",
    "specialTokens     = [ PAD, START, END, UNK ]\n",
    "specialTokensDict = {PAD: 0, START: 1, END: 2, UNK : 3, }\n",
    "\n",
    "\n",
    "from nlptext.utils.grain import getChannelGrain4Token, getChannelGrain4Sent"
   ]
  },
  {
   "cell_type": "markdown",
   "metadata": {},
   "source": [
    "#### Token"
   ]
  },
  {
   "cell_type": "code",
   "execution_count": null,
   "metadata": {},
   "outputs": [],
   "source": [
    "from nlptext.token import Token\n",
    "\n",
    "channel = 'radical'\n",
    "token = '病理性'\n",
    "\n",
    "\n",
    "tk = Token(token = token)\n",
    "print(tk ,'\\n')\n",
    "print(tk.getChannelGrain('radical', Max_Ngram=2),'\\n')\n",
    "print(tk.getChannelGrain('stroke'),'\\n')\n",
    "print(tk.getChannelGrain('stroke', end_grain=True),'\\n')"
   ]
  },
  {
   "cell_type": "markdown",
   "metadata": {},
   "source": [
    "#### Sentence"
   ]
  },
  {
   "cell_type": "code",
   "execution_count": null,
   "metadata": {},
   "outputs": [],
   "source": [
    "from nlptext.sentence import Sentence\n",
    "\n",
    "sent =  '心率 62 次 / 分 ， 律 齐 ， 各 瓣膜 区 未闻 及 病理性 杂音 。'.split(' ')\n",
    "st = Sentence(sentence=sent, tokenLevel = 'word')\n",
    "print(st,'\\n')\n",
    "print(st.sentence,'\\n')\n",
    "print(st.getChannelGrain('token'),'\\n')\n",
    "print(st.getChannelGrain('stroke'),'\\n')\n",
    "print(st.getChannelGrain('subcomp', useStartEnd=True, end_grain=True),'\\n')\n",
    "print(st.getChannelGrain('pos'))"
   ]
  },
  {
   "cell_type": "markdown",
   "metadata": {},
   "source": [
    "#### Sentence's Token"
   ]
  },
  {
   "cell_type": "code",
   "execution_count": null,
   "metadata": {},
   "outputs": [],
   "source": [
    "tk = st.Tokens[0]\n",
    "print(tk)\n",
    "print()\n",
    "print(tk.getChannelGrain('stroke'))\n",
    "print()\n",
    "print(tk.getChannelGrain('stroke', end_grain=True))"
   ]
  },
  {
   "cell_type": "code",
   "execution_count": null,
   "metadata": {},
   "outputs": [],
   "source": [
    "# can use POS here.\n",
    "print(tk.getChannelGrain('pos')) "
   ]
  },
  {
   "cell_type": "markdown",
   "metadata": {},
   "source": [
    "# 2. Build `ListGrainUnique` for All Channels\n",
    "\n",
    "\n",
    "## 2.1 Function `get_dictionary_ngram`"
   ]
  },
  {
   "cell_type": "code",
   "execution_count": null,
   "metadata": {},
   "outputs": [],
   "source": [
    "\n",
    "PAD   = '</pad>'\n",
    "START = '</start>'\n",
    "END   = '</end>'\n",
    "UNK   = '</unk>'\n",
    "\n",
    "specialTokens     = [ PAD, START, END, UNK]"
   ]
  },
  {
   "cell_type": "code",
   "execution_count": null,
   "metadata": {},
   "outputs": [],
   "source": [
    "\n",
    "LTU, DTU = corpus.TokenUnique\n",
    "\n",
    "\n",
    "\n",
    "num_specialtokens = len(specialTokens)\n",
    "\n",
    "LTU[:num_specialtokens] == specialTokens\n",
    "\n"
   ]
  },
  {
   "cell_type": "code",
   "execution_count": null,
   "metadata": {},
   "outputs": [],
   "source": [
    "\n",
    "##################################################################################################LTU_LGU-LT\n",
    "\n",
    "def get_LGU_or_LT(TokenUnique, channel= 'char',\n",
    "                  Max_Ngram = 1, end_grain = False,\n",
    "                  specialTokens = specialTokens):\n",
    "\n",
    "    # ListGrainUnique = []\n",
    "    \n",
    "\n",
    "    LTU, DTU = TokenUnique\n",
    "    num_specialtokens = len(specialTokens)\n",
    "    assert LTU[:num_specialtokens] == specialTokens\n",
    "    \n",
    "    \n",
    "    DictGrainUnique = {}\n",
    "    new_grains = [stk for stk in specialTokens]\n",
    "    # ListGrainUnique = ListGrainUnique + new_grains\n",
    "    for stk in new_grains:\n",
    "        DictGrainUnique[stk] = len(DictGrainUnique)\n",
    "\n",
    "    LookUp = [[idx] for idx in range(num_specialtokens)]\n",
    "    \n",
    "    print('For channel: |', channel, '| build GrainUnique and LookUp')\n",
    "    for idx, token in enumerate(LTU[num_specialtokens:]):\n",
    "        ChN = getChannelGrain4Token(token, channel, Max_Ngram= Max_Ngram, end_grain = end_grain)\n",
    "        # new_grains = list(set(ChN) - set(ListGrainUnique))\n",
    "        new_grains = [i for i in set(ChN) if i not in DictGrainUnique]\n",
    "        # print(new_grains)\n",
    "        # ListGrainUnique = ListGrainUnique + new_grains\n",
    "        for stk in new_grains:\n",
    "            DictGrainUnique[stk] = len(DictGrainUnique)\n",
    "        LookUp.append([DictGrainUnique.get(gr) for gr in ChN])\n",
    "        if (idx + num_specialtokens) % 100000 == 0:\n",
    "            print('\\t\\tFor Channel:', channel, '\\t', idx + num_specialtokens, datetime.now())\n",
    "            \n",
    "    ListGrainUnique = list(DictGrainUnique.keys())\n",
    "    assert ListGrainUnique[:num_specialtokens] == specialTokens\n",
    "    assert len(LookUp) == len(LTU)\n",
    "    return (ListGrainUnique, DictGrainUnique), LookUp\n",
    "##################################################################################################LTU_LGU-LT\n"
   ]
  },
  {
   "cell_type": "code",
   "execution_count": null,
   "metadata": {
    "scrolled": true
   },
   "outputs": [],
   "source": [
    "# this function is used in getListGrainUnique\n",
    "\n",
    "TU = corpus.TokenUnique\n",
    "Max_Ngram = 2\n",
    "channel = 'subcomp'\n",
    "GU, LT = get_LGU_or_LT(TU,  Max_Ngram = Max_Ngram, channel=channel)\n",
    "print(GU[0])"
   ]
  },
  {
   "cell_type": "code",
   "execution_count": null,
   "metadata": {},
   "outputs": [],
   "source": [
    "tk_idx = 56"
   ]
  },
  {
   "cell_type": "code",
   "execution_count": null,
   "metadata": {},
   "outputs": [],
   "source": [
    "TGU = GU[0]\n",
    "\n",
    "[TGU[i] for i in LT[tk_idx]]"
   ]
  },
  {
   "cell_type": "code",
   "execution_count": null,
   "metadata": {},
   "outputs": [],
   "source": [
    "token = LTU[tk_idx]\n",
    "\n",
    "getChannelGrain4Token(token, channel, Max_Ngram= Max_Ngram)"
   ]
  },
  {
   "cell_type": "markdown",
   "metadata": {},
   "source": [
    "## 2.2 `getListGrainUnique`\n",
    "\n",
    "\n",
    "Much Codes in the function `getListGrainUnique` in the module `base.py` ."
   ]
  },
  {
   "cell_type": "code",
   "execution_count": null,
   "metadata": {},
   "outputs": [],
   "source": [
    "from nlptext.corpus import Corpus\n",
    "\n",
    "corpus = Corpus()\n",
    "\n",
    "\n",
    "channel_setting_temp = {'token':{'use':         True,\n",
    "                                 'Max_Ngram':   1,\n",
    "                                 'end_grain':   False,\n",
    "                                 }}\n",
    "    \n",
    "\n",
    "channel = 'token'\n",
    "channel_setting = channel_setting_temp[channel]\n",
    "use = channel_setting.pop('use')\n",
    "GrainUnique = corpus.getGrainUnique(channel, **channel_setting)"
   ]
  },
  {
   "cell_type": "code",
   "execution_count": null,
   "metadata": {},
   "outputs": [],
   "source": [
    "\n",
    "channel_setting_temp = {'subcomp':{'use':         True,\n",
    "                                   'Max_Ngram':   3,\n",
    "                                   'end_grain':   True,\n",
    "                                   }}\n",
    "    \n",
    "\n",
    "channel = 'subcomp'\n",
    "channel_setting = channel_setting_temp[channel]\n",
    "use = channel_setting.pop('use')\n",
    "GrainUnique = corpus.getGrainUnique(channel, **channel_setting)"
   ]
  },
  {
   "cell_type": "code",
   "execution_count": null,
   "metadata": {},
   "outputs": [],
   "source": [
    "\n",
    "channel_setting_temp = {'pos':    {'use':         True,\n",
    "                                   'Max_Ngram':  1,\n",
    "                                   'tagScheme': 'BIO' }}\n",
    "    \n",
    "\n",
    "channel = 'pos'\n",
    "channel_setting = channel_setting_temp[channel]\n",
    "use = channel_setting.pop('use')\n",
    "GrainUnique = corpus.getGrainUnique(channel, **channel_setting)"
   ]
  },
  {
   "cell_type": "code",
   "execution_count": null,
   "metadata": {},
   "outputs": [],
   "source": [
    "\n",
    "channel_setting_temp = {'annoE':  {'use':         True,\n",
    "                                   'Max_Ngram':  1,\n",
    "                                   'tagScheme': 'BIO' }}\n",
    "    \n",
    "\n",
    "channel = 'annoE'\n",
    "channel_setting = channel_setting_temp[channel]\n",
    "use = channel_setting.pop('use')\n",
    "GrainUnique = corpus.getGrainUnique(channel, **channel_setting)"
   ]
  },
  {
   "cell_type": "code",
   "execution_count": null,
   "metadata": {},
   "outputs": [],
   "source": [
    "\n",
    "channel_setting_temp = {'annoE':  {'use':         True,\n",
    "                                   'Max_Ngram':  1,\n",
    "                                   'tagScheme': 'BIOES' }}\n",
    "    \n",
    "\n",
    "channel = 'annoE'\n",
    "channel_setting = channel_setting_temp[channel]\n",
    "use = channel_setting.pop('use')\n",
    "GrainUnique = corpus.getGrainUnique(channel, **channel_setting)"
   ]
  },
  {
   "cell_type": "markdown",
   "metadata": {},
   "source": [
    "# 3 Using the Predefined Grain List for CTX_DEP and ANNO Channels\n",
    "\n",
    "\n",
    "For example, we have a list at the very begining"
   ]
  },
  {
   "cell_type": "code",
   "execution_count": null,
   "metadata": {},
   "outputs": [],
   "source": [
    "ANNO_Tag_List = ['不确定', '修饰',  '检查', '疾病', '症状']\n",
    "\n",
    "\n",
    "def getTagDict(TagList, tagScheme = 'BIO'):\n",
    "    L = []\n",
    "    suffices = ['-B', '-I']\n",
    "    if 'O' in tagScheme:\n",
    "        pref = specialTokens[:-1] + ['O']\n",
    "    \n",
    "    else:\n",
    "        pref = specialTokens[:-1] # without UNK\n",
    "    if 'E' in tagScheme:\n",
    "        suffices = suffices + ['-E']\n",
    "    if 'S' in tagScheme:\n",
    "        suffices = suffices + ['-S']\n",
    "    for tag in TagList:\n",
    "        L.extend([tag+suff for suff in suffices])\n",
    "    return pref + L\n",
    "    \n",
    "TagList = ANNO_Tag_List\n",
    "tagScheme = 'BIO'\n",
    "    \n",
    "getTagDict(TagList, tagScheme = tagScheme)"
   ]
  },
  {
   "cell_type": "markdown",
   "metadata": {},
   "source": [
    "# 4. Test for NLPText's `BUILD_GRAIN_DICT` with Given Channel Settings"
   ]
  },
  {
   "cell_type": "code",
   "execution_count": null,
   "metadata": {},
   "outputs": [],
   "source": [
    "\n",
    "\n",
    "from pprint import pprint\n",
    "from nlptext.base import BasicObject\n",
    "\n",
    "########### ResumeNER ###########\n",
    "CORPUSPath = 'dataset/ResumeNER/'\n",
    "corpusFileIden = '.bmes'\n",
    "textType   = 'block'\n",
    "Text2SentMethod  = 're'\n",
    "Sent2TokenMethod = 'iter'\n",
    "TOKENLevel = 'char'\n",
    "anno = 'embed'\n",
    "annoKW = {}\n",
    "\n",
    "\n",
    "\n",
    "BasicObject.INIT(CORPUSPath, corpusFileIden, textType, \n",
    "                 Text2SentMethod, Sent2TokenMethod, TOKENLevel, \n",
    "                 anno, annoKW)\n",
    "\n",
    "from nlptext.corpus import Corpus\n",
    "corpus = Corpus()\n",
    "# corpus.IdxFolderStartEnd\n"
   ]
  },
  {
   "cell_type": "code",
   "execution_count": null,
   "metadata": {},
   "outputs": [],
   "source": [
    "\n",
    "import os\n",
    "import shutil\n",
    "\n",
    "\n",
    "from nlptext.corpus import Corpus\n",
    "\n",
    "\n",
    "corpus = Corpus()\n",
    "print(corpus.TokenNum_Dir)\n",
    "\n",
    "\n",
    "CHANNEL_SETTINGS_TEMPLATE = {\n",
    "    \n",
    "    # CTX_IND\n",
    "    'token':  {'use':         True,\n",
    "               'Max_Ngram':   1},\n",
    "    \n",
    "    'char':   {'use':         True,\n",
    "               'Max_Ngram':   1,\n",
    "               'end_grain':   False},\n",
    "    \n",
    "    'basic':  {'use':         True,\n",
    "               'Max_Ngram':   1,\n",
    "               'end_grain':   False},\n",
    "        \n",
    "    'medical':{'use':         True,\n",
    "               'Max_Ngram':   1,\n",
    "               'end_grain':   False},\n",
    "    \n",
    "    'radical':{'use':         True,\n",
    "               'Max_Ngram':   1,\n",
    "               'end_grain':   False},\n",
    "    \n",
    "    'subcomp':{'use':         True,\n",
    "               'Max_Ngram':   3,\n",
    "               'end_grain':   True},\n",
    "\n",
    "    'stroke': {'use':         True,\n",
    "               'Max_Ngram':   5,\n",
    "               'end_grain':   False},\n",
    "    \n",
    "    # CTX_DEP\n",
    "    'pos':    {'use':         True,\n",
    "               'Max_Ngram':   1,\n",
    "               'end_grain':   False,\n",
    "               'tagScheme':   'BIO',\n",
    "              },\n",
    "    \n",
    "    # ANNO\n",
    "    'annoR':  {'use':         True,\n",
    "               'Max_Ngram':   1,\n",
    "               'end_grain':   False,\n",
    "               'tagScheme':   'BIO',\n",
    "               },\n",
    "    \n",
    "    \n",
    "    'annoE': {'use':         True,\n",
    "              'Max_Ngram':   1,\n",
    "              'end_grain':   False,\n",
    "              'tagScheme':   'BIO',\n",
    "              },\n",
    "}\n",
    "\n",
    "\n",
    "BasicObject.BUILD_GRAIN_UNI_AND_LOOKUP(CHANNEL_SETTINGS_TEMPLATE=CHANNEL_SETTINGS_TEMPLATE)\n",
    "\n",
    "\n",
    "# TODO: pretty print the result.\n"
   ]
  },
  {
   "cell_type": "markdown",
   "metadata": {},
   "source": [
    "### List Grain Unique"
   ]
  },
  {
   "cell_type": "code",
   "execution_count": null,
   "metadata": {
    "scrolled": true
   },
   "outputs": [],
   "source": [
    "print(corpus.GRAIN_UNI[corpus.TokenNum_Dir]['subcomp3e'][0])"
   ]
  },
  {
   "cell_type": "code",
   "execution_count": null,
   "metadata": {},
   "outputs": [],
   "source": [
    "print(corpus.GRAIN_UNI[corpus.TokenNum_Dir]['medical'][0])"
   ]
  },
  {
   "cell_type": "code",
   "execution_count": null,
   "metadata": {},
   "outputs": [],
   "source": [
    "print(corpus.GRAIN_UNI[corpus.TokenNum_Dir]['stroke5'][0])"
   ]
  },
  {
   "cell_type": "code",
   "execution_count": null,
   "metadata": {},
   "outputs": [],
   "source": [
    "print(corpus.GRAIN_UNI[corpus.TokenNum_Dir]['pos'][0])"
   ]
  },
  {
   "cell_type": "code",
   "execution_count": null,
   "metadata": {},
   "outputs": [],
   "source": [
    "print(corpus.GRAIN_UNI[corpus.TokenNum_Dir]['annoE'][0])"
   ]
  },
  {
   "cell_type": "code",
   "execution_count": null,
   "metadata": {
    "scrolled": false
   },
   "outputs": [],
   "source": [
    "print(corpus.GRAIN_UNI[corpus.TokenNum_Dir]['token'][0])"
   ]
  },
  {
   "cell_type": "markdown",
   "metadata": {},
   "source": [
    "### LOOKUP"
   ]
  },
  {
   "cell_type": "code",
   "execution_count": null,
   "metadata": {},
   "outputs": [],
   "source": [
    "[i for i in corpus.LOOKUP[corpus.TokenNum_Dir]]#['subcomp3']"
   ]
  },
  {
   "cell_type": "code",
   "execution_count": null,
   "metadata": {},
   "outputs": [],
   "source": [
    "corpus.LOOKUP[corpus.TokenNum_Dir]['stroke5']"
   ]
  },
  {
   "cell_type": "code",
   "execution_count": null,
   "metadata": {},
   "outputs": [],
   "source": [
    "from nlptext.token import Token\n",
    "\n",
    "tk = Token(20)\n",
    "\n",
    "tk"
   ]
  },
  {
   "cell_type": "code",
   "execution_count": null,
   "metadata": {},
   "outputs": [],
   "source": [
    "channel_dict = {'channel': 'subcomp', \n",
    "               'Max_Ngram':   2,\n",
    "               'end_grain':   False}\n",
    "\n",
    "tk.getGrainTensor(dontUseLookUp = True, **channel_dict)"
   ]
  },
  {
   "cell_type": "code",
   "execution_count": null,
   "metadata": {},
   "outputs": [],
   "source": [
    "tk.getGrainTensor(dontUseLookUp = True, **channel_dict)"
   ]
  },
  {
   "cell_type": "code",
   "execution_count": null,
   "metadata": {},
   "outputs": [],
   "source": [
    "tk.getChannelGrain(**channel_dict)"
   ]
  },
  {
   "cell_type": "markdown",
   "metadata": {},
   "source": [
    "# Wiki"
   ]
  },
  {
   "cell_type": "code",
   "execution_count": null,
   "metadata": {
    "scrolled": true
   },
   "outputs": [],
   "source": [
    "\n",
    "\n",
    "from pprint import pprint\n",
    "from nlptext.base import BasicObject\n",
    "\n",
    "\n",
    "########### Wiki ###########\n",
    "CORPUSPath = 'dataset/WikiTotal/'\n",
    "corpusFileIden = '.txt'\n",
    "\n",
    "textType   = 'line'\n",
    "\n",
    "Text2SentMethod  = 're'\n",
    "Sent2TokenMethod = 'sep- '\n",
    "TOKENLevel = 'char'\n",
    "\n",
    "anno = False\n",
    "annoKW = {}\n",
    "\n",
    "\n",
    "\n",
    "MaxTextIdx = False\n",
    "\n",
    "BasicObject.INIT(CORPUSPath, corpusFileIden, textType, \n",
    "                 Text2SentMethod, Sent2TokenMethod, TOKENLevel, \n",
    "                 anno, annoKW, MaxTextIdx)\n",
    "\n"
   ]
  },
  {
   "cell_type": "code",
   "execution_count": null,
   "metadata": {},
   "outputs": [],
   "source": []
  },
  {
   "cell_type": "code",
   "execution_count": null,
   "metadata": {},
   "outputs": [],
   "source": []
  },
  {
   "cell_type": "code",
   "execution_count": null,
   "metadata": {},
   "outputs": [],
   "source": [
    "\n",
    "\n",
    "\n",
    "\n",
    "BOB = 'channel/WikiTotal/word/Token4692189/BOBMeta.p'\n",
    "LGU = 'channel/WikiTotal/word/Token4692189/LGUDict.p'\n",
    "BasicObject.INIT_FROM_PICKLE(BOB, LGU)\n",
    "\n"
   ]
  },
  {
   "cell_type": "code",
   "execution_count": null,
   "metadata": {},
   "outputs": [],
   "source": [
    "from nlptext.token import Token\n",
    "from nlptext.sentence import Sentence\n",
    "\n",
    "st = Sentence(11)\n",
    "st"
   ]
  },
  {
   "cell_type": "code",
   "execution_count": null,
   "metadata": {},
   "outputs": [],
   "source": [
    "st.sentence"
   ]
  },
  {
   "cell_type": "code",
   "execution_count": null,
   "metadata": {},
   "outputs": [],
   "source": [
    "[i for i in BasicObject.TOKEN]"
   ]
  },
  {
   "cell_type": "code",
   "execution_count": null,
   "metadata": {},
   "outputs": [],
   "source": [
    "len(BasicObject.TEXT['NUMSents'])"
   ]
  },
  {
   "cell_type": "code",
   "execution_count": null,
   "metadata": {},
   "outputs": [],
   "source": [
    "len(BasicObject.SENT['NUMTokens'])"
   ]
  },
  {
   "cell_type": "code",
   "execution_count": null,
   "metadata": {},
   "outputs": [],
   "source": [
    "len(BasicObject.TOKEN['ORIGTokenIndex'])"
   ]
  },
  {
   "cell_type": "code",
   "execution_count": null,
   "metadata": {},
   "outputs": [],
   "source": [
    "\n",
    "\n",
    "from pprint import pprint\n",
    "from nlptext.base import BasicObject\n",
    "from nlptext.utils import reCutText2Sent\n",
    "\n",
    "\n",
    "########### Wiki ###########\n",
    "CORPUSPath = 'dataset/wiki/'\n",
    "corpusFileIden = '.txt'\n",
    "\n",
    "textType   = 'line'\n",
    "\n",
    "Text2SentMethod  = reCutText2Sent\n",
    "Sent2TokenMethod = 'sep- '\n",
    "TOKENLevel = 'char'\n",
    "\n",
    "anno = False\n",
    "annoKW = {}\n",
    "\n",
    "\n",
    "\n",
    "MaxTextIdx = False\n",
    "\n",
    "BasicObject.INIT(CORPUSPath, corpusFileIden, textType, \n",
    "                 Text2SentMethod, Sent2TokenMethod, TOKENLevel, \n",
    "                 anno, annoKW, MaxTextIdx)\n",
    "\n"
   ]
  },
  {
   "cell_type": "code",
   "execution_count": null,
   "metadata": {},
   "outputs": [],
   "source": [
    "from nlptext.token import Token\n",
    "from nlptext.sentence import Sentence\n",
    "\n",
    "st = Sentence(17)\n",
    "st"
   ]
  },
  {
   "cell_type": "code",
   "execution_count": null,
   "metadata": {},
   "outputs": [],
   "source": [
    "st.sentence"
   ]
  },
  {
   "cell_type": "code",
   "execution_count": null,
   "metadata": {
    "scrolled": true
   },
   "outputs": [],
   "source": [
    "st.Tokens"
   ]
  },
  {
   "cell_type": "code",
   "execution_count": null,
   "metadata": {},
   "outputs": [],
   "source": []
  }
 ],
 "metadata": {
  "kernelspec": {
   "display_name": "Python 3",
   "language": "python",
   "name": "python3"
  },
  "language_info": {
   "codemirror_mode": {
    "name": "ipython",
    "version": 3
   },
   "file_extension": ".py",
   "mimetype": "text/x-python",
   "name": "python",
   "nbconvert_exporter": "python",
   "pygments_lexer": "ipython3",
   "version": "3.7.0"
  },
  "varInspector": {
   "cols": {
    "lenName": 16,
    "lenType": 16,
    "lenVar": 40
   },
   "kernels_config": {
    "python": {
     "delete_cmd_postfix": "",
     "delete_cmd_prefix": "del ",
     "library": "var_list.py",
     "varRefreshCmd": "print(var_dic_list())"
    },
    "r": {
     "delete_cmd_postfix": ") ",
     "delete_cmd_prefix": "rm(",
     "library": "var_list.r",
     "varRefreshCmd": "cat(var_dic_list()) "
    }
   },
   "types_to_exclude": [
    "module",
    "function",
    "builtin_function_or_method",
    "instance",
    "_Feature"
   ],
   "window_display": false
  }
 },
 "nbformat": 4,
 "nbformat_minor": 2
}
